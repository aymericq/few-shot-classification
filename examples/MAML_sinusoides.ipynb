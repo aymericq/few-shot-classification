{
 "cells": [
  {
   "cell_type": "code",
   "execution_count": 59,
   "metadata": {},
   "outputs": [
    {
     "name": "stdout",
     "output_type": "stream",
     "text": [
      "/Users/aymeric.quesne/fsl-lib/tensorflow-fewshot\n",
      "Processing /Users/aymeric.quesne/fsl-lib/tensorflow-fewshot\n",
      "Building wheels for collected packages: tensorflow-fewshot\n",
      "  Building wheel for tensorflow-fewshot (setup.py) ... \u001b[?25ldone\n",
      "\u001b[?25h  Created wheel for tensorflow-fewshot: filename=tensorflow_fewshot-0.0.2-py3-none-any.whl size=20966 sha256=dba0138bfaa2faddb98bfcb7acf13c39e5b7b3d4dcede45e6063d519920ceb5d\n",
      "  Stored in directory: /Users/aymeric.quesne/Library/Caches/pip/wheels/d2/bb/6f/5d51cad355b9b9dfe040938fbcdaa8e10b67ee9aa53a21fe56\n",
      "Successfully built tensorflow-fewshot\n",
      "Installing collected packages: tensorflow-fewshot\n",
      "  Attempting uninstall: tensorflow-fewshot\n",
      "    Found existing installation: tensorflow-fewshot 0.0.2\n",
      "    Uninstalling tensorflow-fewshot-0.0.2:\n",
      "      Successfully uninstalled tensorflow-fewshot-0.0.2\n",
      "Successfully installed tensorflow-fewshot-0.0.2\n",
      "/Users/aymeric.quesne/fsl-lib/tensorflow-fewshot/examples\n"
     ]
    }
   ],
   "source": [
    "%cd ..\n",
    "!pip install .\n",
    "%cd ./examples"
   ]
  },
  {
   "cell_type": "code",
   "execution_count": 60,
   "metadata": {},
   "outputs": [
    {
     "data": {
      "text/plain": [
       "<module 'tensorflow_fewshot.models.maml' from '/Users/aymeric.quesne/anaconda3/envs/tf-fs-examples/lib/python3.7/site-packages/tensorflow_fewshot/models/maml.py'>"
      ]
     },
     "execution_count": 60,
     "metadata": {},
     "output_type": "execute_result"
    }
   ],
   "source": [
    "import importlib\n",
    "importlib.reload(maml)"
   ]
  },
  {
   "cell_type": "markdown",
   "metadata": {
    "colab_type": "text",
    "id": "OP3bBnri-KGc"
   },
   "source": [
    "### Example of using the MAML implementation to learn the 5-way 5-shot task on the Omniglot dataset"
   ]
  },
  {
   "cell_type": "code",
   "execution_count": 1,
   "metadata": {
    "colab": {},
    "colab_type": "code",
    "id": "0ogvEnAh-KGd"
   },
   "outputs": [],
   "source": [
    "import os\n",
    "import sys\n",
    "sys.path.insert(0, os.path.abspath(os.path.relpath('../tensorflow_fewshot/')))"
   ]
  },
  {
   "cell_type": "code",
   "execution_count": 2,
   "metadata": {
    "colab": {},
    "colab_type": "code",
    "id": "xF0b6sEp-KGh"
   },
   "outputs": [],
   "source": [
    "import tensorflow_fewshot.models.maml as maml\n",
    "import tensorflow_fewshot.models.utils as models_utils\n",
    "from tensorflow_fewshot.datasets import MetaDatasetFromArray"
   ]
  },
  {
   "cell_type": "code",
   "execution_count": 3,
   "metadata": {
    "colab": {},
    "colab_type": "code",
    "id": "_sP9JXo7-KGj"
   },
   "outputs": [],
   "source": [
    "import tensorflow as tf\n",
    "import numpy as np\n",
    "\n",
    "import matplotlib.pyplot as plt\n",
    "\n",
    "import tensorflow_datasets as tfds\n",
    "\n",
    "from IPython.display import display, clear_output"
   ]
  },
  {
   "cell_type": "markdown",
   "metadata": {
    "colab_type": "text",
    "id": "LYXG6b_e-KGm"
   },
   "source": [
    "# Dataset"
   ]
  },
  {
   "cell_type": "code",
   "execution_count": 191,
   "metadata": {
    "colab": {},
    "colab_type": "code",
    "id": "tM59bLEJgJIS"
   },
   "outputs": [],
   "source": [
    "def sine(n_task=10):\n",
    "    for _ in range(n_task):\n",
    "        x = np.random.uniform(-5, 5, size=(20,1,1,1))\n",
    "        a = np.random.uniform(0.1, 5)\n",
    "        p = np.random.uniform(0, np.pi)\n",
    "        y = a*np.sin(x + p)\n",
    "        support = x[1::2], y[1::2]\n",
    "        query = x[::2], y[::2]\n",
    "        yield support, query"
   ]
  },
  {
   "cell_type": "code",
   "execution_count": 192,
   "metadata": {
    "colab": {
     "base_uri": "https://localhost:8080/",
     "height": 209
    },
    "colab_type": "code",
    "id": "9JTJD2aRAEhh",
    "outputId": "b35d1cb0-d5c2-4d90-ea0d-d4341e3d04a1"
   },
   "outputs": [
    {
     "data": {
      "image/png": "[encoded data removed]",
      "text/plain": [
       "<Figure size 1440x288 with 5 Axes>"
      ]
     },
     "metadata": {
      "needs_background": "light"
     },
     "output_type": "display_data"
    }
   ],
   "source": [
    "plt.figure(figsize=(20,4))\n",
    "ds = sine()\n",
    "for i in range(5):\n",
    "    support, _ = ds.__next__()\n",
    "    plt.subplot(1,5,i+1)\n",
    "    plt.scatter(support[0], support[1])"
   ]
  },
  {
   "cell_type": "markdown",
   "metadata": {
    "colab_type": "text",
    "id": "UdWvW3SA-KGp"
   },
   "source": [
    "# Meta-train"
   ]
  },
  {
   "cell_type": "code",
   "execution_count": 193,
   "metadata": {
    "colab": {
     "base_uri": "https://localhost:8080/",
     "height": 294
    },
    "colab_type": "code",
    "id": "c5_6FNaj-KGq",
    "outputId": "c337a138-9077-4618-d4f1-4916a0fb0e1a"
   },
   "outputs": [
    {
     "name": "stdout",
     "output_type": "stream",
     "text": [
      "Model: \"sequential_5\"\n",
      "_________________________________________________________________\n",
      "Layer (type)                 Output Shape              Param #   \n",
      "=================================================================\n",
      "dense_17 (Dense)             (None, 40)                80        \n",
      "_________________________________________________________________\n",
      "dense_18 (Dense)             (None, 40)                1640      \n",
      "_________________________________________________________________\n",
      "dense_19 (Dense)             (None, 1)                 41        \n",
      "=================================================================\n",
      "Total params: 1,761\n",
      "Trainable params: 1,761\n",
      "Non-trainable params: 0\n",
      "_________________________________________________________________\n"
     ]
    }
   ],
   "source": [
    "encoder = tf.keras.models.Sequential([\n",
    "  tf.keras.layers.Input((1,)),\n",
    "  tf.keras.layers.Dense(40, activation='relu'),\n",
    "  tf.keras.layers.Dense(40, activation='relu'),\n",
    "  tf.keras.layers.Dense(1),\n",
    "])\n",
    "encoder.summary()"
   ]
  },
  {
   "cell_type": "code",
   "execution_count": 194,
   "metadata": {
    "colab": {
     "base_uri": "https://localhost:8080/",
     "height": 207
    },
    "colab_type": "code",
    "id": "PotEH_l5q0Ze",
    "outputId": "49ac3aae-0a40-4381-caaf-134a7b9f6d0b"
   },
   "outputs": [
    {
     "data": {
      "text/plain": [
       "<tf.Tensor: shape=(10, 1, 1, 1), dtype=float32, numpy=\n",
       "array([[[[-0.50410676]]],\n",
       "\n",
       "\n",
       "       [[[-0.98150516]]],\n",
       "\n",
       "\n",
       "       [[[-0.1060005 ]]],\n",
       "\n",
       "\n",
       "       [[[-0.11258779]]],\n",
       "\n",
       "\n",
       "       [[[-0.38707143]]],\n",
       "\n",
       "\n",
       "       [[[-0.47002977]]],\n",
       "\n",
       "\n",
       "       [[[-0.28291994]]],\n",
       "\n",
       "\n",
       "       [[[-0.230444  ]]],\n",
       "\n",
       "\n",
       "       [[[-0.05679512]]],\n",
       "\n",
       "\n",
       "       [[[-1.6572018 ]]]], dtype=float32)>"
      ]
     },
     "execution_count": 194,
     "metadata": {},
     "output_type": "execute_result"
    }
   ],
   "source": [
    "support, _ = sine().__next__()\n",
    "encoder(support[0])"
   ]
  },
  {
   "cell_type": "code",
   "execution_count": 195,
   "metadata": {
    "colab": {
     "base_uri": "https://localhost:8080/",
     "height": 35
    },
    "colab_type": "code",
    "id": "YueJ7iWeq6tl",
    "outputId": "01afbbd0-92a9-4d3c-b18f-f54f84f8626f"
   },
   "outputs": [
    {
     "data": {
      "text/plain": [
       "(10, 1, 1, 1)"
      ]
     },
     "execution_count": 195,
     "metadata": {},
     "output_type": "execute_result"
    }
   ],
   "source": [
    "support[0].shape"
   ]
  },
  {
   "cell_type": "code",
   "execution_count": 196,
   "metadata": {
    "colab": {},
    "colab_type": "code",
    "id": "YyfARTG3-KGs"
   },
   "outputs": [],
   "source": [
    "model = maml.MAML(encoder, tf.keras.losses.mse)"
   ]
  },
  {
   "cell_type": "code",
   "execution_count": 200,
   "metadata": {
    "colab": {},
    "colab_type": "code",
    "id": "W6g8FDhMDtv9"
   },
   "outputs": [],
   "source": [
    "def evaluate(model, ds, n_task=10, verbose=False):\n",
    "    mse = []\n",
    "    \n",
    "    i = 1\n",
    "    for support_set, query_set in sine(n_task=n_task):\n",
    "        if verbose:\n",
    "            clear_output(wait=True)\n",
    "            display('Eval task ' + str(i) + ' of ' + str(n_task))\n",
    "\n",
    "        support_x, support_y = support_set\n",
    "        query_x, query_y = query_set\n",
    "\n",
    "        finetuned_model = model.fit(support_x, support_y, alpha=0.001, n_step=5)\n",
    "\n",
    "        preds = finetuned_model(query_x)\n",
    "        mse.append(np.sqrt(np.sum(np.square(preds - query_y))))\n",
    "        i += 1\n",
    "    return mse"
   ]
  },
  {
   "cell_type": "code",
   "execution_count": 201,
   "metadata": {
    "colab": {},
    "colab_type": "code",
    "id": "BasBmgJJD_mG"
   },
   "outputs": [],
   "source": [
    "from shutil import copyfile"
   ]
  },
  {
   "cell_type": "code",
   "execution_count": 204,
   "metadata": {
    "colab": {},
    "colab_type": "code",
    "id": "5bWWhzSV-KGy"
   },
   "outputs": [],
   "source": [
    "losses = []\n",
    "val_losses = []\n",
    "def episode_callback(**kwargs):\n",
    "    if kwargs['episode']%10 == 0:\n",
    "        outer_grads = kwargs['episode_gradients'][-2] # Head kernel\n",
    "        grad_norm = np.sqrt(np.sum(np.square(outer_grads)))\n",
    "        epi_loss = np.mean(kwargs['episode_loss'].numpy())\n",
    "        print(\n",
    "            \"Episode\", kwargs['episode'],\n",
    "            \"outer loss:\", epi_loss,\n",
    "            \"outer gradient norm:\", grad_norm)\n",
    "        losses.append(epi_loss)\n",
    "    if kwargs['episode']%100 == 0:\n",
    "        val_losses.append(np.mean(evaluate(model, sine)))\n",
    "        print(\"At episode\", kwargs['episode'], \"Validation MSE:\", np.mean(evaluate(model, sine)))\n",
    "\n",
    "def train():\n",
    "    model.meta_train(\n",
    "        sine,\n",
    "        n_episode=70000,\n",
    "        alpha=0.001,\n",
    "        n_step=5,\n",
    "        optimizer=tf.keras.optimizers.Adam(1e-3, clipvalue=10.0),\n",
    "        episode_end_callback=episode_callback\n",
    "    )"
   ]
  },
  {
   "cell_type": "code",
   "execution_count": 205,
   "metadata": {
    "colab": {
     "base_uri": "https://localhost:8080/",
     "height": 345
    },
    "colab_type": "code",
    "id": "J0SDdEo1NDEU",
    "outputId": "741bfbd9-ccc5-4dbe-eeb4-04a41174e399"
   },
   "outputs": [
    {
     "name": "stdout",
     "output_type": "stream",
     "text": [
      "Episode 0 outer loss: 29.689045 outer gradient norm: 79.64129\n",
      "At episode, 0 Validation MSE: 4.670379\n",
      "Episode 10 outer loss: 78.772736 outer gradient norm: 255.69363\n",
      "Episode 20 outer loss: 44.093597 outer gradient norm: 136.82285\n",
      "Episode 30 outer loss: 19.990177 outer gradient norm: 73.88615\n",
      "Episode 40 outer loss: 19.080275 outer gradient norm: 16.967655\n",
      "Episode 50 outer loss: 29.999537 outer gradient norm: 82.806656\n",
      "Episode 60 outer loss: 45.514233 outer gradient norm: 126.49064\n",
      "Episode 70 outer loss: 44.767403 outer gradient norm: 135.81447\n",
      "Episode 80 outer loss: 21.617836 outer gradient norm: 59.871704\n",
      "Episode 90 outer loss: 31.168253 outer gradient norm: 47.908802\n",
      "Episode 100 outer loss: 39.147026 outer gradient norm: 91.46491\n",
      "At episode, 100 Validation MSE: 5.56226\n",
      "Episode 110 outer loss: 33.55616 outer gradient norm: 26.564383\n",
      "Episode 120 outer loss: 33.670204 outer gradient norm: 146.5836\n",
      "Episode 130 outer loss: 28.02796 outer gradient norm: 51.259106\n",
      "Episode 140 outer loss: 40.730217 outer gradient norm: 115.545044\n",
      "Episode 150 outer loss: 35.901955 outer gradient norm: 86.188835\n",
      "Episode 160 outer loss: 37.704586 outer gradient norm: 189.21915\n",
      "Episode 170 outer loss: 33.80842 outer gradient norm: 80.24028\n",
      "Episode 180 outer loss: 28.417734 outer gradient norm: 109.964516\n",
      "Episode 190 outer loss: 29.627213 outer gradient norm: 107.7881\n",
      "Episode 200 outer loss: 41.1335 outer gradient norm: 136.19438\n",
      "At episode, 200 Validation MSE: 5.073125\n",
      "Episode 210 outer loss: 39.207317 outer gradient norm: 50.30605\n",
      "Episode 220 outer loss: 44.9302 outer gradient norm: 78.98888\n",
      "Episode 230 outer loss: 38.871044 outer gradient norm: 85.35748\n",
      "Episode 240 outer loss: 20.422253 outer gradient norm: 38.843937\n",
      "Episode 250 outer loss: 32.28485 outer gradient norm: 71.59261\n",
      "Episode 260 outer loss: 14.827194 outer gradient norm: 32.50394\n",
      "Episode 270 outer loss: 29.757832 outer gradient norm: 54.164875\n",
      "Episode 280 outer loss: 40.688015 outer gradient norm: 100.91902\n",
      "Episode 290 outer loss: 36.46058 outer gradient norm: 94.158226\n",
      "Episode 300 outer loss: 17.599224 outer gradient norm: 33.63223\n",
      "At episode, 300 Validation MSE: 4.6038427\n",
      "Episode 310 outer loss: 36.360878 outer gradient norm: 150.6756\n",
      "Episode 320 outer loss: 35.42935 outer gradient norm: 92.88187\n",
      "Episode 330 outer loss: 29.834118 outer gradient norm: 77.40813\n",
      "Episode 340 outer loss: 22.103697 outer gradient norm: 22.794552\n",
      "Episode 350 outer loss: 30.495663 outer gradient norm: 54.221523\n",
      "Episode 360 outer loss: 15.378795 outer gradient norm: 67.11309\n",
      "Episode 370 outer loss: 16.522991 outer gradient norm: 78.100624\n",
      "Episode 380 outer loss: 51.800365 outer gradient norm: 36.995308\n",
      "Episode 390 outer loss: 32.063797 outer gradient norm: 119.87479\n",
      "Episode 400 outer loss: 29.16196 outer gradient norm: 137.06897\n",
      "At episode, 400 Validation MSE: 3.4746177\n",
      "Episode 410 outer loss: 23.85185 outer gradient norm: 42.362713\n",
      "Episode 420 outer loss: 20.08142 outer gradient norm: 85.63041\n",
      "Episode 430 outer loss: 8.915724 outer gradient norm: 58.79634\n",
      "Episode 440 outer loss: 15.276718 outer gradient norm: 103.92067\n",
      "Episode 450 outer loss: 20.32201 outer gradient norm: 90.47194\n",
      "Episode 460 outer loss: 23.255562 outer gradient norm: 78.645515\n",
      "Episode 470 outer loss: 36.12165 outer gradient norm: 135.79596\n",
      "Episode 480 outer loss: 31.540655 outer gradient norm: 37.476776\n",
      "Episode 490 outer loss: 18.36771 outer gradient norm: 97.02697\n",
      "Episode 500 outer loss: 14.992628 outer gradient norm: 100.127335\n",
      "At episode, 500 Validation MSE: 3.3568738\n",
      "Episode 510 outer loss: 16.683895 outer gradient norm: 106.633514\n",
      "Episode 520 outer loss: 13.799896 outer gradient norm: 106.157036\n",
      "Episode 530 outer loss: 16.040016 outer gradient norm: 74.77326\n",
      "Episode 540 outer loss: 13.793872 outer gradient norm: 75.14502\n",
      "Episode 550 outer loss: 13.047716 outer gradient norm: 75.00053\n",
      "Episode 560 outer loss: 17.009207 outer gradient norm: 77.528275\n",
      "Episode 570 outer loss: 23.257107 outer gradient norm: 102.24762\n",
      "Episode 580 outer loss: 11.088392 outer gradient norm: 30.025986\n",
      "Episode 590 outer loss: 31.779623 outer gradient norm: 77.49671\n",
      "Episode 600 outer loss: 12.496553 outer gradient norm: 82.02376\n",
      "At episode, 600 Validation MSE: 4.314229\n",
      "Episode 610 outer loss: 15.078627 outer gradient norm: 103.7426\n",
      "Episode 620 outer loss: 15.424481 outer gradient norm: 84.778496\n",
      "Episode 630 outer loss: 13.389806 outer gradient norm: 56.646896\n",
      "Episode 640 outer loss: 14.860234 outer gradient norm: 90.49299\n",
      "Episode 650 outer loss: 7.3508124 outer gradient norm: 61.556923\n",
      "Episode 660 outer loss: 9.981023 outer gradient norm: 67.64005\n",
      "Episode 670 outer loss: 32.725994 outer gradient norm: 88.142006\n",
      "Episode 680 outer loss: 15.2137985 outer gradient norm: 76.820045\n",
      "Episode 690 outer loss: 23.925285 outer gradient norm: 154.76483\n",
      "Episode 700 outer loss: 8.896715 outer gradient norm: 52.494373\n",
      "At episode, 700 Validation MSE: 3.0176747\n",
      "Episode 710 outer loss: 17.21585 outer gradient norm: 38.04546\n",
      "Episode 720 outer loss: 24.335705 outer gradient norm: 109.31773\n",
      "Episode 730 outer loss: 15.220798 outer gradient norm: 40.71468\n",
      "Episode 740 outer loss: 10.444279 outer gradient norm: 88.69759\n",
      "Episode 750 outer loss: 9.016638 outer gradient norm: 45.192844\n",
      "Episode 760 outer loss: 13.506533 outer gradient norm: 93.47006\n",
      "Episode 770 outer loss: 17.92691 outer gradient norm: 52.3428\n",
      "Episode 780 outer loss: 13.4744215 outer gradient norm: 52.16087\n",
      "Episode 790 outer loss: 11.957783 outer gradient norm: 41.989002\n",
      "Episode 800 outer loss: 6.9560976 outer gradient norm: 38.34745\n",
      "At episode, 800 Validation MSE: 3.4415054\n",
      "Episode 810 outer loss: 8.585488 outer gradient norm: 35.53733\n",
      "Episode 820 outer loss: 10.701877 outer gradient norm: 46.72135\n",
      "Episode 830 outer loss: 16.64351 outer gradient norm: 51.18115\n",
      "Episode 840 outer loss: 13.3774395 outer gradient norm: 101.16543\n",
      "Episode 850 outer loss: 12.258502 outer gradient norm: 53.6108\n",
      "Episode 860 outer loss: 10.453934 outer gradient norm: 55.75038\n",
      "Episode 870 outer loss: 18.610212 outer gradient norm: 118.46487\n",
      "Episode 880 outer loss: 13.523592 outer gradient norm: 98.501686\n",
      "Episode 890 outer loss: 8.284513 outer gradient norm: 64.22549\n",
      "Episode 900 outer loss: 17.274006 outer gradient norm: 61.74556\n",
      "At episode, 900 Validation MSE: 2.996204\n",
      "Episode 910 outer loss: 12.618235 outer gradient norm: 37.043266\n",
      "Episode 920 outer loss: 14.391172 outer gradient norm: 63.778282\n",
      "Episode 930 outer loss: 8.8349285 outer gradient norm: 73.65737\n",
      "Episode 940 outer loss: 9.449211 outer gradient norm: 61.090855\n",
      "Episode 950 outer loss: 8.63136 outer gradient norm: 63.68762\n",
      "Episode 960 outer loss: 9.733479 outer gradient norm: 56.905178\n",
      "Episode 970 outer loss: 10.219527 outer gradient norm: 43.420612\n",
      "Episode 980 outer loss: 7.2742987 outer gradient norm: 58.632233\n",
      "Episode 990 outer loss: 5.818964 outer gradient norm: 42.24508\n",
      "Episode 1000 outer loss: 13.9706135 outer gradient norm: 71.16217\n",
      "At episode, 1000 Validation MSE: 2.824419\n",
      "Episode 1010 outer loss: 12.060888 outer gradient norm: 105.98859\n",
      "Episode 1020 outer loss: 15.801325 outer gradient norm: 179.56964\n",
      "Episode 1030 outer loss: 9.200926 outer gradient norm: 31.541067\n",
      "Episode 1040 outer loss: 10.280906 outer gradient norm: 93.779755\n",
      "Episode 1050 outer loss: 6.285607 outer gradient norm: 40.73808\n",
      "Episode 1060 outer loss: 5.5791755 outer gradient norm: 39.28998\n",
      "Episode 1070 outer loss: 6.7762995 outer gradient norm: 38.641518\n",
      "Episode 1080 outer loss: 9.494764 outer gradient norm: 60.510906\n",
      "Episode 1090 outer loss: 15.818304 outer gradient norm: 140.11234\n",
      "Episode 1100 outer loss: 4.116235 outer gradient norm: 32.899296\n",
      "At episode, 1100 Validation MSE: 3.063171\n",
      "Episode 1110 outer loss: 7.1815047 outer gradient norm: 27.011099\n",
      "Episode 1120 outer loss: 11.376875 outer gradient norm: 77.16094\n",
      "Episode 1130 outer loss: 9.757932 outer gradient norm: 37.368305\n",
      "Episode 1140 outer loss: 6.463707 outer gradient norm: 55.017223\n",
      "Episode 1150 outer loss: 15.549049 outer gradient norm: 96.3702\n",
      "Episode 1160 outer loss: 3.798711 outer gradient norm: 34.289436\n",
      "Episode 1170 outer loss: 5.368872 outer gradient norm: 71.15083\n",
      "Episode 1180 outer loss: 7.4342437 outer gradient norm: 66.37154\n",
      "Episode 1190 outer loss: 8.478796 outer gradient norm: 49.670498\n"
     ]
    },
    {
     "name": "stdout",
     "output_type": "stream",
     "text": [
      "Episode 1200 outer loss: 9.151019 outer gradient norm: 74.767426\n",
      "At episode, 1200 Validation MSE: 2.4683995\n",
      "Episode 1210 outer loss: 4.671283 outer gradient norm: 40.881256\n",
      "Episode 1220 outer loss: 6.285952 outer gradient norm: 77.80012\n",
      "Episode 1230 outer loss: 4.09848 outer gradient norm: 11.18395\n",
      "Episode 1240 outer loss: 6.52143 outer gradient norm: 103.63036\n",
      "Episode 1250 outer loss: 8.836767 outer gradient norm: 72.632416\n",
      "Episode 1260 outer loss: 11.068539 outer gradient norm: 91.084785\n",
      "Episode 1270 outer loss: 12.77377 outer gradient norm: 37.548107\n",
      "Episode 1280 outer loss: 12.001738 outer gradient norm: 63.23087\n",
      "Episode 1290 outer loss: 4.289481 outer gradient norm: 64.06902\n",
      "Episode 1300 outer loss: 8.374674 outer gradient norm: 47.833145\n",
      "At episode, 1300 Validation MSE: 3.0681663\n",
      "Episode 1310 outer loss: 5.271865 outer gradient norm: 41.956932\n",
      "Episode 1320 outer loss: 4.210518 outer gradient norm: 39.623425\n",
      "Episode 1330 outer loss: 6.6843276 outer gradient norm: 34.720406\n",
      "Episode 1340 outer loss: 5.6256185 outer gradient norm: 76.5225\n",
      "Episode 1350 outer loss: 10.784549 outer gradient norm: 52.085712\n",
      "Episode 1360 outer loss: 8.70543 outer gradient norm: 124.33312\n",
      "Episode 1370 outer loss: 14.937607 outer gradient norm: 89.28288\n",
      "Episode 1380 outer loss: 6.476751 outer gradient norm: 77.98869\n",
      "Episode 1390 outer loss: 6.123124 outer gradient norm: 54.114086\n",
      "Episode 1400 outer loss: 5.8211083 outer gradient norm: 35.739044\n",
      "At episode, 1400 Validation MSE: 2.6129487\n",
      "Episode 1410 outer loss: 7.6392264 outer gradient norm: 52.614063\n",
      "Episode 1420 outer loss: 8.595022 outer gradient norm: 49.63739\n",
      "Episode 1430 outer loss: 3.8020096 outer gradient norm: 47.483208\n",
      "Episode 1440 outer loss: 10.019907 outer gradient norm: 30.208544\n",
      "Episode 1450 outer loss: 5.3265676 outer gradient norm: 36.683643\n",
      "Episode 1460 outer loss: 4.8978615 outer gradient norm: 28.976858\n",
      "Episode 1470 outer loss: 7.917514 outer gradient norm: 99.73634\n",
      "Episode 1480 outer loss: 9.960681 outer gradient norm: 57.743626\n",
      "Episode 1490 outer loss: 9.7696295 outer gradient norm: 46.092625\n",
      "Episode 1500 outer loss: 8.717487 outer gradient norm: 101.1739\n",
      "At episode, 1500 Validation MSE: 1.965489\n",
      "Episode 1510 outer loss: 7.5579743 outer gradient norm: 84.453186\n",
      "Episode 1520 outer loss: 5.530753 outer gradient norm: 29.05296\n",
      "Episode 1530 outer loss: 6.1742697 outer gradient norm: 69.644424\n",
      "Episode 1540 outer loss: 7.014582 outer gradient norm: 62.37371\n",
      "Episode 1550 outer loss: 5.7400675 outer gradient norm: 47.15148\n",
      "Episode 1560 outer loss: 4.88049 outer gradient norm: 61.6889\n",
      "Episode 1570 outer loss: 6.870366 outer gradient norm: 56.500996\n",
      "Episode 1580 outer loss: 5.0702724 outer gradient norm: 32.818493\n",
      "Episode 1590 outer loss: 5.289624 outer gradient norm: 51.49528\n",
      "Episode 1600 outer loss: 5.7099786 outer gradient norm: 42.794395\n",
      "At episode, 1600 Validation MSE: 1.9990448\n",
      "Episode 1610 outer loss: 5.760806 outer gradient norm: 58.326115\n",
      "Episode 1620 outer loss: 9.493078 outer gradient norm: 45.577824\n",
      "Episode 1630 outer loss: 9.118994 outer gradient norm: 38.65823\n",
      "Episode 1640 outer loss: 6.3767424 outer gradient norm: 53.632904\n",
      "Episode 1650 outer loss: 3.2419903 outer gradient norm: 44.918926\n",
      "Episode 1660 outer loss: 5.7143183 outer gradient norm: 78.29758\n",
      "Episode 1670 outer loss: 2.6615028 outer gradient norm: 57.64379\n",
      "Episode 1680 outer loss: 6.057004 outer gradient norm: 23.49524\n",
      "Episode 1690 outer loss: 5.4367228 outer gradient norm: 66.41968\n",
      "Episode 1700 outer loss: 7.8223124 outer gradient norm: 39.114998\n",
      "At episode, 1700 Validation MSE: 2.5639615\n",
      "Episode 1710 outer loss: 5.544997 outer gradient norm: 28.063549\n",
      "Episode 1720 outer loss: 4.445485 outer gradient norm: 22.893576\n",
      "Episode 1730 outer loss: 3.535746 outer gradient norm: 30.800848\n",
      "Episode 1740 outer loss: 5.865114 outer gradient norm: 57.33693\n",
      "Episode 1750 outer loss: 5.637773 outer gradient norm: 28.173182\n",
      "Episode 1760 outer loss: 6.1996207 outer gradient norm: 38.053898\n",
      "Episode 1770 outer loss: 5.1200604 outer gradient norm: 107.73211\n",
      "Episode 1780 outer loss: 7.501279 outer gradient norm: 99.53972\n",
      "Episode 1790 outer loss: 4.530799 outer gradient norm: 26.362356\n",
      "Episode 1800 outer loss: 6.790255 outer gradient norm: 58.51347\n",
      "At episode, 1800 Validation MSE: 2.1872375\n",
      "Episode 1810 outer loss: 4.324504 outer gradient norm: 58.086784\n",
      "Episode 1820 outer loss: 7.541507 outer gradient norm: 110.79556\n",
      "Episode 1830 outer loss: 4.3518844 outer gradient norm: 40.6735\n",
      "Episode 1840 outer loss: 5.945552 outer gradient norm: 58.780872\n",
      "Episode 1850 outer loss: 7.3969765 outer gradient norm: 65.846176\n",
      "Episode 1860 outer loss: 3.0488896 outer gradient norm: 54.059242\n",
      "Episode 1870 outer loss: 6.2458115 outer gradient norm: 73.9217\n",
      "Episode 1880 outer loss: 5.0927935 outer gradient norm: 51.616486\n",
      "Episode 1890 outer loss: 5.028097 outer gradient norm: 67.700615\n",
      "Episode 1900 outer loss: 6.728549 outer gradient norm: 96.27447\n",
      "At episode, 1900 Validation MSE: 2.1272075\n",
      "Episode 1910 outer loss: 3.8547165 outer gradient norm: 55.951393\n",
      "Episode 1920 outer loss: 8.968159 outer gradient norm: 72.69679\n",
      "Episode 1930 outer loss: 5.4255 outer gradient norm: 63.348335\n",
      "Episode 1940 outer loss: 3.7387226 outer gradient norm: 32.388794\n",
      "Episode 1950 outer loss: 6.611884 outer gradient norm: 85.25511\n",
      "Episode 1960 outer loss: 5.5811505 outer gradient norm: 23.658104\n",
      "Episode 1970 outer loss: 6.255084 outer gradient norm: 39.300777\n",
      "Episode 1980 outer loss: 3.6331258 outer gradient norm: 15.752929\n",
      "Episode 1990 outer loss: 4.145171 outer gradient norm: 46.5564\n",
      "Episode 2000 outer loss: 3.0695577 outer gradient norm: 34.096783\n",
      "At episode, 2000 Validation MSE: 2.0117579\n",
      "Episode 2010 outer loss: 3.0200787 outer gradient norm: 38.00896\n",
      "Episode 2020 outer loss: 3.396132 outer gradient norm: 40.010223\n",
      "Episode 2030 outer loss: 7.8243346 outer gradient norm: 36.40467\n",
      "Episode 2040 outer loss: 11.51152 outer gradient norm: 74.21907\n",
      "Episode 2050 outer loss: 7.784098 outer gradient norm: 43.571575\n",
      "Episode 2060 outer loss: 6.1948905 outer gradient norm: 65.27031\n",
      "Episode 2070 outer loss: 3.6323724 outer gradient norm: 25.809887\n",
      "Episode 2080 outer loss: 5.525401 outer gradient norm: 39.901287\n",
      "Episode 2090 outer loss: 5.4881783 outer gradient norm: 70.9157\n",
      "Episode 2100 outer loss: 2.7606015 outer gradient norm: 14.94546\n",
      "At episode, 2100 Validation MSE: 1.5911331\n",
      "Episode 2110 outer loss: 7.0102167 outer gradient norm: 40.47537\n",
      "Episode 2120 outer loss: 4.151822 outer gradient norm: 55.232643\n",
      "Episode 2130 outer loss: 3.9556077 outer gradient norm: 21.160982\n",
      "Episode 2140 outer loss: 7.354209 outer gradient norm: 91.6608\n",
      "Episode 2150 outer loss: 3.387303 outer gradient norm: 41.14152\n",
      "Episode 2160 outer loss: 4.9537053 outer gradient norm: 20.917484\n",
      "Episode 2170 outer loss: 9.231141 outer gradient norm: 98.801926\n",
      "Episode 2180 outer loss: 4.553786 outer gradient norm: 30.301939\n",
      "Episode 2190 outer loss: 4.2182374 outer gradient norm: 39.084427\n",
      "Episode 2200 outer loss: 2.881988 outer gradient norm: 37.332905\n",
      "At episode, 2200 Validation MSE: 2.244015\n",
      "Episode 2210 outer loss: 4.2547975 outer gradient norm: 38.565697\n",
      "Episode 2220 outer loss: 6.4023643 outer gradient norm: 37.569695\n",
      "Episode 2230 outer loss: 5.7723985 outer gradient norm: 40.338993\n",
      "Episode 2240 outer loss: 6.401287 outer gradient norm: 45.698433\n",
      "Episode 2250 outer loss: 3.2498703 outer gradient norm: 26.040562\n",
      "Episode 2260 outer loss: 2.4683552 outer gradient norm: 43.76709\n",
      "Episode 2270 outer loss: 8.945192 outer gradient norm: 38.377174\n",
      "Episode 2280 outer loss: 3.3038545 outer gradient norm: 17.90433\n",
      "Episode 2290 outer loss: 2.9343185 outer gradient norm: 44.61539\n",
      "Episode 2300 outer loss: 5.5933294 outer gradient norm: 15.984651\n",
      "At episode, 2300 Validation MSE: 2.1074777\n",
      "Episode 2310 outer loss: 8.680755 outer gradient norm: 26.999819\n",
      "Episode 2320 outer loss: 7.3487177 outer gradient norm: 50.940544\n",
      "Episode 2330 outer loss: 9.069317 outer gradient norm: 40.851364\n",
      "Episode 2340 outer loss: 9.310523 outer gradient norm: 65.4487\n",
      "Episode 2350 outer loss: 7.5863495 outer gradient norm: 34.504597\n",
      "Episode 2360 outer loss: 5.608097 outer gradient norm: 27.597551\n",
      "Episode 2370 outer loss: 6.659269 outer gradient norm: 59.72111\n",
      "Episode 2380 outer loss: 6.402209 outer gradient norm: 60.14853\n"
     ]
    },
    {
     "name": "stdout",
     "output_type": "stream",
     "text": [
      "Episode 2390 outer loss: 7.698329 outer gradient norm: 57.004253\n",
      "Episode 2400 outer loss: 3.0386136 outer gradient norm: 28.763048\n",
      "At episode, 2400 Validation MSE: 1.4329827\n",
      "Episode 2410 outer loss: 2.4509346 outer gradient norm: 50.031803\n",
      "Episode 2420 outer loss: 4.3250175 outer gradient norm: 53.093613\n",
      "Episode 2430 outer loss: 6.9326487 outer gradient norm: 54.243156\n",
      "Episode 2440 outer loss: 7.5977798 outer gradient norm: 82.23481\n",
      "Episode 2450 outer loss: 7.4154015 outer gradient norm: 76.07654\n",
      "Episode 2460 outer loss: 6.8170075 outer gradient norm: 46.33508\n",
      "Episode 2470 outer loss: 4.1915364 outer gradient norm: 49.33175\n",
      "Episode 2480 outer loss: 3.383662 outer gradient norm: 19.473743\n",
      "Episode 2490 outer loss: 1.8565047 outer gradient norm: 23.786032\n",
      "Episode 2500 outer loss: 5.1529703 outer gradient norm: 39.55078\n",
      "At episode, 2500 Validation MSE: 1.6112802\n",
      "Episode 2510 outer loss: 3.9112315 outer gradient norm: 46.83927\n",
      "Episode 2520 outer loss: 7.3210588 outer gradient norm: 31.82514\n",
      "Episode 2530 outer loss: 9.006121 outer gradient norm: 44.79781\n",
      "Episode 2540 outer loss: 4.286957 outer gradient norm: 86.12961\n",
      "Episode 2550 outer loss: 6.2416043 outer gradient norm: 49.32061\n",
      "Episode 2560 outer loss: 7.173297 outer gradient norm: 21.431652\n",
      "Episode 2570 outer loss: 7.6463523 outer gradient norm: 101.00858\n",
      "Episode 2580 outer loss: 5.1546984 outer gradient norm: 36.608578\n",
      "Episode 2590 outer loss: 2.017938 outer gradient norm: 39.0919\n",
      "Episode 2600 outer loss: 6.654643 outer gradient norm: 41.075512\n",
      "At episode, 2600 Validation MSE: 1.572613\n",
      "Episode 2610 outer loss: 5.0779266 outer gradient norm: 49.651894\n",
      "Episode 2620 outer loss: 5.451581 outer gradient norm: 79.01506\n",
      "Episode 2630 outer loss: 5.16391 outer gradient norm: 43.620453\n",
      "Episode 2640 outer loss: 2.9449697 outer gradient norm: 49.029522\n",
      "Episode 2650 outer loss: 2.700798 outer gradient norm: 24.493828\n",
      "Episode 2660 outer loss: 4.6371613 outer gradient norm: 62.11086\n",
      "Episode 2670 outer loss: 8.440335 outer gradient norm: 47.228558\n",
      "Episode 2680 outer loss: 6.2589917 outer gradient norm: 42.92942\n",
      "Episode 2690 outer loss: 5.1747446 outer gradient norm: 27.935383\n",
      "Episode 2700 outer loss: 5.4637656 outer gradient norm: 85.2283\n",
      "At episode, 2700 Validation MSE: 2.158857\n",
      "Episode 2710 outer loss: 4.822023 outer gradient norm: 59.519463\n",
      "Episode 2720 outer loss: 5.5710025 outer gradient norm: 47.043446\n",
      "Episode 2730 outer loss: 6.062171 outer gradient norm: 53.993015\n",
      "Episode 2740 outer loss: 5.035185 outer gradient norm: 18.581491\n",
      "Episode 2750 outer loss: 7.3553467 outer gradient norm: 35.762703\n",
      "Episode 2760 outer loss: 13.463545 outer gradient norm: 82.34153\n",
      "Episode 2770 outer loss: 4.0465584 outer gradient norm: 35.488457\n",
      "Episode 2780 outer loss: 4.2980685 outer gradient norm: 29.979988\n",
      "Episode 2790 outer loss: 4.302998 outer gradient norm: 60.615097\n",
      "Episode 2800 outer loss: 11.1677065 outer gradient norm: 84.92622\n",
      "At episode, 2800 Validation MSE: 1.9694355\n",
      "Episode 2810 outer loss: 4.6129208 outer gradient norm: 29.900932\n",
      "Episode 2820 outer loss: 5.7498503 outer gradient norm: 38.736153\n",
      "Episode 2830 outer loss: 5.6658583 outer gradient norm: 42.480213\n",
      "Episode 2840 outer loss: 5.169293 outer gradient norm: 41.630898\n",
      "Episode 2850 outer loss: 5.8428507 outer gradient norm: 47.443043\n",
      "Episode 2860 outer loss: 7.4173174 outer gradient norm: 32.536633\n",
      "Episode 2870 outer loss: 4.4313574 outer gradient norm: 34.027065\n",
      "Episode 2880 outer loss: 2.6269512 outer gradient norm: 38.76581\n",
      "Episode 2890 outer loss: 4.3345394 outer gradient norm: 36.08247\n",
      "Episode 2900 outer loss: 6.3368845 outer gradient norm: 38.86806\n",
      "At episode, 2900 Validation MSE: 1.9115705\n",
      "Episode 2910 outer loss: 4.4456477 outer gradient norm: 27.973316\n",
      "Episode 2920 outer loss: 3.6697469 outer gradient norm: 41.610874\n",
      "Episode 2930 outer loss: 3.0786471 outer gradient norm: 31.686348\n",
      "Episode 2940 outer loss: 4.6556 outer gradient norm: 30.993376\n",
      "Episode 2950 outer loss: 6.65417 outer gradient norm: 33.94688\n",
      "Episode 2960 outer loss: 4.707728 outer gradient norm: 57.34308\n",
      "Episode 2970 outer loss: 5.707782 outer gradient norm: 44.231525\n",
      "Episode 2980 outer loss: 6.1993814 outer gradient norm: 48.16092\n",
      "Episode 2990 outer loss: 6.9932113 outer gradient norm: 85.98289\n",
      "Episode 3000 outer loss: 4.312463 outer gradient norm: 46.833313\n",
      "At episode, 3000 Validation MSE: 2.6656928\n",
      "Episode 3010 outer loss: 5.3570704 outer gradient norm: 38.480297\n",
      "Episode 3020 outer loss: 6.1398835 outer gradient norm: 57.27726\n",
      "Episode 3030 outer loss: 3.2398782 outer gradient norm: 36.934708\n",
      "Episode 3040 outer loss: 7.2642198 outer gradient norm: 80.844635\n",
      "Episode 3050 outer loss: 4.275217 outer gradient norm: 38.331123\n",
      "Episode 3060 outer loss: 3.0512497 outer gradient norm: 30.690428\n",
      "Episode 3070 outer loss: 10.922094 outer gradient norm: 54.5072\n"
     ]
    },
    {
     "ename": "KeyboardInterrupt",
     "evalue": "",
     "output_type": "error",
     "traceback": [
      "\u001b[0;31m---------------------------------------------------------------------------\u001b[0m",
      "\u001b[0;31mKeyboardInterrupt\u001b[0m                         Traceback (most recent call last)",
      "\u001b[0;32m<ipython-input-205-2da0ffaf5447>\u001b[0m in \u001b[0;36m<module>\u001b[0;34m\u001b[0m\n\u001b[0;32m----> 1\u001b[0;31m \u001b[0mtrain\u001b[0m\u001b[0;34m(\u001b[0m\u001b[0;34m)\u001b[0m\u001b[0;34m\u001b[0m\u001b[0;34m\u001b[0m\u001b[0m\n\u001b[0m",
      "\u001b[0;32m<ipython-input-204-0ce9b60a3220>\u001b[0m in \u001b[0;36mtrain\u001b[0;34m()\u001b[0m\n\u001b[1;32m     22\u001b[0m         \u001b[0mn_step\u001b[0m\u001b[0;34m=\u001b[0m\u001b[0;36m5\u001b[0m\u001b[0;34m,\u001b[0m\u001b[0;34m\u001b[0m\u001b[0;34m\u001b[0m\u001b[0m\n\u001b[1;32m     23\u001b[0m         \u001b[0moptimizer\u001b[0m\u001b[0;34m=\u001b[0m\u001b[0mtf\u001b[0m\u001b[0;34m.\u001b[0m\u001b[0mkeras\u001b[0m\u001b[0;34m.\u001b[0m\u001b[0moptimizers\u001b[0m\u001b[0;34m.\u001b[0m\u001b[0mAdam\u001b[0m\u001b[0;34m(\u001b[0m\u001b[0;36m1e-3\u001b[0m\u001b[0;34m,\u001b[0m \u001b[0mclipvalue\u001b[0m\u001b[0;34m=\u001b[0m\u001b[0;36m10.0\u001b[0m\u001b[0;34m)\u001b[0m\u001b[0;34m,\u001b[0m\u001b[0;34m\u001b[0m\u001b[0;34m\u001b[0m\u001b[0m\n\u001b[0;32m---> 24\u001b[0;31m         \u001b[0mepisode_end_callback\u001b[0m\u001b[0;34m=\u001b[0m\u001b[0mepisode_callback\u001b[0m\u001b[0;34m\u001b[0m\u001b[0;34m\u001b[0m\u001b[0m\n\u001b[0m\u001b[1;32m     25\u001b[0m     )\n",
      "\u001b[0;32m~/anaconda3/envs/tf-fs-examples/lib/python3.7/site-packages/tensorflow_fewshot/models/maml.py\u001b[0m in \u001b[0;36mmeta_train\u001b[0;34m(self, task_generator, n_episode, alpha, n_step, optimizer, episode_end_callback)\u001b[0m\n\u001b[1;32m     70\u001b[0m                     \u001b[0;31m# Computes inner loop updates and outer loss over the query set\u001b[0m\u001b[0;34m\u001b[0m\u001b[0;34m\u001b[0m\u001b[0;34m\u001b[0m\u001b[0m\n\u001b[1;32m     71\u001b[0m                     outer_loss = self._compute_task_loss(updated_model, alpha, n_step, x_support, y_support, x_query,\n\u001b[0;32m---> 72\u001b[0;31m                                                          y_query)\n\u001b[0m\u001b[1;32m     73\u001b[0m \u001b[0;34m\u001b[0m\u001b[0m\n\u001b[1;32m     74\u001b[0m                 \u001b[0mouter_grads\u001b[0m \u001b[0;34m=\u001b[0m \u001b[0mouter_tape\u001b[0m\u001b[0;34m.\u001b[0m\u001b[0mgradient\u001b[0m\u001b[0;34m(\u001b[0m\u001b[0mouter_loss\u001b[0m\u001b[0;34m,\u001b[0m \u001b[0mself\u001b[0m\u001b[0;34m.\u001b[0m\u001b[0mmodel\u001b[0m\u001b[0;34m.\u001b[0m\u001b[0mvariables\u001b[0m\u001b[0;34m)\u001b[0m\u001b[0;34m\u001b[0m\u001b[0;34m\u001b[0m\u001b[0m\n",
      "\u001b[0;32m~/anaconda3/envs/tf-fs-examples/lib/python3.7/site-packages/tensorflow_fewshot/models/maml.py\u001b[0m in \u001b[0;36m_compute_task_loss\u001b[0;34m(self, updated_model, alpha, n_step, x_support, y_support, x_query, y_query)\u001b[0m\n\u001b[1;32m     88\u001b[0m \u001b[0;34m\u001b[0m\u001b[0m\n\u001b[1;32m     89\u001b[0m     \u001b[0;32mdef\u001b[0m \u001b[0m_compute_task_loss\u001b[0m\u001b[0;34m(\u001b[0m\u001b[0mself\u001b[0m\u001b[0;34m,\u001b[0m \u001b[0mupdated_model\u001b[0m\u001b[0;34m,\u001b[0m \u001b[0malpha\u001b[0m\u001b[0;34m,\u001b[0m \u001b[0mn_step\u001b[0m\u001b[0;34m,\u001b[0m \u001b[0mx_support\u001b[0m\u001b[0;34m,\u001b[0m \u001b[0my_support\u001b[0m\u001b[0;34m,\u001b[0m \u001b[0mx_query\u001b[0m\u001b[0;34m,\u001b[0m \u001b[0my_query\u001b[0m\u001b[0;34m)\u001b[0m\u001b[0;34m:\u001b[0m\u001b[0;34m\u001b[0m\u001b[0;34m\u001b[0m\u001b[0m\n\u001b[0;32m---> 90\u001b[0;31m         \u001b[0mtake_n_gradient_step\u001b[0m\u001b[0;34m(\u001b[0m\u001b[0mself\u001b[0m\u001b[0;34m.\u001b[0m\u001b[0mmodel\u001b[0m\u001b[0;34m,\u001b[0m \u001b[0mupdated_model\u001b[0m\u001b[0;34m,\u001b[0m \u001b[0mn_step\u001b[0m\u001b[0;34m,\u001b[0m \u001b[0malpha\u001b[0m\u001b[0;34m,\u001b[0m \u001b[0mself\u001b[0m\u001b[0;34m.\u001b[0m\u001b[0mloss\u001b[0m\u001b[0;34m,\u001b[0m \u001b[0mx_support\u001b[0m\u001b[0;34m,\u001b[0m \u001b[0my_support\u001b[0m\u001b[0;34m)\u001b[0m\u001b[0;34m\u001b[0m\u001b[0;34m\u001b[0m\u001b[0m\n\u001b[0m\u001b[1;32m     91\u001b[0m         \u001b[0my_outer\u001b[0m \u001b[0;34m=\u001b[0m \u001b[0mupdated_model\u001b[0m\u001b[0;34m(\u001b[0m\u001b[0mx_query\u001b[0m\u001b[0;34m)\u001b[0m\u001b[0;34m\u001b[0m\u001b[0;34m\u001b[0m\u001b[0m\n\u001b[1;32m     92\u001b[0m         \u001b[0mouter_loss\u001b[0m \u001b[0;34m=\u001b[0m \u001b[0mself\u001b[0m\u001b[0;34m.\u001b[0m\u001b[0mloss\u001b[0m\u001b[0;34m(\u001b[0m\u001b[0my_query\u001b[0m\u001b[0;34m,\u001b[0m \u001b[0my_outer\u001b[0m\u001b[0;34m)\u001b[0m\u001b[0;34m\u001b[0m\u001b[0;34m\u001b[0m\u001b[0m\n",
      "\u001b[0;32m~/anaconda3/envs/tf-fs-examples/lib/python3.7/site-packages/tensorflow_fewshot/models/gradient_utils.py\u001b[0m in \u001b[0;36mtake_n_gradient_step\u001b[0;34m(model, updated_model, n_step, alpha, loss, data_x, data_y)\u001b[0m\n\u001b[1;32m     31\u001b[0m \u001b[0;34m\u001b[0m\u001b[0m\n\u001b[1;32m     32\u001b[0m \u001b[0;32mdef\u001b[0m \u001b[0mtake_n_gradient_step\u001b[0m\u001b[0;34m(\u001b[0m\u001b[0mmodel\u001b[0m\u001b[0;34m,\u001b[0m \u001b[0mupdated_model\u001b[0m\u001b[0;34m,\u001b[0m \u001b[0mn_step\u001b[0m\u001b[0;34m,\u001b[0m \u001b[0malpha\u001b[0m\u001b[0;34m,\u001b[0m \u001b[0mloss\u001b[0m\u001b[0;34m,\u001b[0m \u001b[0mdata_x\u001b[0m\u001b[0;34m,\u001b[0m \u001b[0mdata_y\u001b[0m\u001b[0;34m)\u001b[0m\u001b[0;34m:\u001b[0m\u001b[0;34m\u001b[0m\u001b[0;34m\u001b[0m\u001b[0m\n\u001b[0;32m---> 33\u001b[0;31m     \u001b[0mgrads\u001b[0m \u001b[0;34m=\u001b[0m \u001b[0m_compute_n_step_grads\u001b[0m\u001b[0;34m(\u001b[0m\u001b[0mmodel\u001b[0m\u001b[0;34m,\u001b[0m \u001b[0mupdated_model\u001b[0m\u001b[0;34m,\u001b[0m \u001b[0mn_step\u001b[0m\u001b[0;34m,\u001b[0m \u001b[0malpha\u001b[0m\u001b[0;34m,\u001b[0m \u001b[0mloss\u001b[0m\u001b[0;34m,\u001b[0m \u001b[0mdata_x\u001b[0m\u001b[0;34m,\u001b[0m \u001b[0mdata_y\u001b[0m\u001b[0;34m)\u001b[0m\u001b[0;34m\u001b[0m\u001b[0;34m\u001b[0m\u001b[0m\n\u001b[0m\u001b[1;32m     34\u001b[0m     \u001b[0m_update_weights\u001b[0m\u001b[0;34m(\u001b[0m\u001b[0malpha\u001b[0m\u001b[0;34m,\u001b[0m \u001b[0mgrads\u001b[0m\u001b[0;34m,\u001b[0m \u001b[0mmodel\u001b[0m\u001b[0;34m,\u001b[0m \u001b[0mupdated_model\u001b[0m\u001b[0;34m,\u001b[0m \u001b[0mfirst_update\u001b[0m\u001b[0;34m=\u001b[0m\u001b[0;34m(\u001b[0m\u001b[0mn_step\u001b[0m \u001b[0;34m==\u001b[0m \u001b[0;36m1\u001b[0m\u001b[0;34m)\u001b[0m\u001b[0;34m)\u001b[0m\u001b[0;34m\u001b[0m\u001b[0;34m\u001b[0m\u001b[0m\n\u001b[1;32m     35\u001b[0m \u001b[0;34m\u001b[0m\u001b[0m\n",
      "\u001b[0;32m~/anaconda3/envs/tf-fs-examples/lib/python3.7/site-packages/tensorflow_fewshot/models/gradient_utils.py\u001b[0m in \u001b[0;36m_compute_n_step_grads\u001b[0;34m(model, updated_model, n_step, alpha, loss, data_x, data_y, unconnected_gradients)\u001b[0m\n\u001b[1;32m     44\u001b[0m     \u001b[0;32melse\u001b[0m\u001b[0;34m:\u001b[0m\u001b[0;34m\u001b[0m\u001b[0;34m\u001b[0m\u001b[0m\n\u001b[1;32m     45\u001b[0m         \u001b[0;32mwith\u001b[0m \u001b[0mtf\u001b[0m\u001b[0;34m.\u001b[0m\u001b[0mGradientTape\u001b[0m\u001b[0;34m(\u001b[0m\u001b[0;34m)\u001b[0m \u001b[0;32mas\u001b[0m \u001b[0mtape\u001b[0m\u001b[0;34m:\u001b[0m\u001b[0;34m\u001b[0m\u001b[0;34m\u001b[0m\u001b[0m\n\u001b[0;32m---> 46\u001b[0;31m             \u001b[0mgrads\u001b[0m \u001b[0;34m=\u001b[0m \u001b[0m_compute_n_step_grads\u001b[0m\u001b[0;34m(\u001b[0m\u001b[0mmodel\u001b[0m\u001b[0;34m,\u001b[0m \u001b[0mupdated_model\u001b[0m\u001b[0;34m,\u001b[0m \u001b[0mn_step\u001b[0m \u001b[0;34m-\u001b[0m \u001b[0;36m1\u001b[0m\u001b[0;34m,\u001b[0m \u001b[0malpha\u001b[0m\u001b[0;34m,\u001b[0m \u001b[0mloss\u001b[0m\u001b[0;34m,\u001b[0m \u001b[0mdata_x\u001b[0m\u001b[0;34m,\u001b[0m \u001b[0mdata_y\u001b[0m\u001b[0;34m)\u001b[0m\u001b[0;34m\u001b[0m\u001b[0;34m\u001b[0m\u001b[0m\n\u001b[0m\u001b[1;32m     47\u001b[0m             \u001b[0m_update_weights\u001b[0m\u001b[0;34m(\u001b[0m\u001b[0malpha\u001b[0m\u001b[0;34m,\u001b[0m \u001b[0mgrads\u001b[0m\u001b[0;34m,\u001b[0m \u001b[0mmodel\u001b[0m\u001b[0;34m,\u001b[0m \u001b[0mupdated_model\u001b[0m\u001b[0;34m,\u001b[0m \u001b[0mfirst_update\u001b[0m\u001b[0;34m=\u001b[0m\u001b[0;34m(\u001b[0m\u001b[0mn_step\u001b[0m \u001b[0;34m==\u001b[0m \u001b[0;36m2\u001b[0m\u001b[0;34m)\u001b[0m\u001b[0;34m)\u001b[0m\u001b[0;34m\u001b[0m\u001b[0;34m\u001b[0m\u001b[0m\n\u001b[1;32m     48\u001b[0m             \u001b[0mpreds\u001b[0m \u001b[0;34m=\u001b[0m \u001b[0mupdated_model\u001b[0m\u001b[0;34m(\u001b[0m\u001b[0mdata_x\u001b[0m\u001b[0;34m)\u001b[0m\u001b[0;34m\u001b[0m\u001b[0;34m\u001b[0m\u001b[0m\n",
      "\u001b[0;32m~/anaconda3/envs/tf-fs-examples/lib/python3.7/site-packages/tensorflow_fewshot/models/gradient_utils.py\u001b[0m in \u001b[0;36m_compute_n_step_grads\u001b[0;34m(model, updated_model, n_step, alpha, loss, data_x, data_y, unconnected_gradients)\u001b[0m\n\u001b[1;32m     48\u001b[0m             \u001b[0mpreds\u001b[0m \u001b[0;34m=\u001b[0m \u001b[0mupdated_model\u001b[0m\u001b[0;34m(\u001b[0m\u001b[0mdata_x\u001b[0m\u001b[0;34m)\u001b[0m\u001b[0;34m\u001b[0m\u001b[0;34m\u001b[0m\u001b[0m\n\u001b[1;32m     49\u001b[0m             \u001b[0mloss_val\u001b[0m \u001b[0;34m=\u001b[0m \u001b[0mloss\u001b[0m\u001b[0;34m(\u001b[0m\u001b[0mdata_y\u001b[0m\u001b[0;34m,\u001b[0m \u001b[0mpreds\u001b[0m\u001b[0;34m)\u001b[0m\u001b[0;34m\u001b[0m\u001b[0;34m\u001b[0m\u001b[0m\n\u001b[0;32m---> 50\u001b[0;31m         \u001b[0mgrads\u001b[0m \u001b[0;34m=\u001b[0m \u001b[0mtape\u001b[0m\u001b[0;34m.\u001b[0m\u001b[0mgradient\u001b[0m\u001b[0;34m(\u001b[0m\u001b[0mloss_val\u001b[0m\u001b[0;34m,\u001b[0m \u001b[0mmodel\u001b[0m\u001b[0;34m.\u001b[0m\u001b[0mvariables\u001b[0m\u001b[0;34m,\u001b[0m \u001b[0munconnected_gradients\u001b[0m\u001b[0;34m=\u001b[0m\u001b[0munconnected_gradients\u001b[0m\u001b[0;34m)\u001b[0m\u001b[0;34m\u001b[0m\u001b[0;34m\u001b[0m\u001b[0m\n\u001b[0m\u001b[1;32m     51\u001b[0m         \u001b[0;32mreturn\u001b[0m \u001b[0mgrads\u001b[0m\u001b[0;34m\u001b[0m\u001b[0;34m\u001b[0m\u001b[0m\n\u001b[1;32m     52\u001b[0m \u001b[0;34m\u001b[0m\u001b[0m\n",
      "\u001b[0;32m~/anaconda3/envs/tf-fs-examples/lib/python3.7/site-packages/tensorflow/python/eager/backprop.py\u001b[0m in \u001b[0;36mgradient\u001b[0;34m(self, target, sources, output_gradients, unconnected_gradients)\u001b[0m\n\u001b[1;32m   1071\u001b[0m         \u001b[0moutput_gradients\u001b[0m\u001b[0;34m=\u001b[0m\u001b[0moutput_gradients\u001b[0m\u001b[0;34m,\u001b[0m\u001b[0;34m\u001b[0m\u001b[0;34m\u001b[0m\u001b[0m\n\u001b[1;32m   1072\u001b[0m         \u001b[0msources_raw\u001b[0m\u001b[0;34m=\u001b[0m\u001b[0mflat_sources_raw\u001b[0m\u001b[0;34m,\u001b[0m\u001b[0;34m\u001b[0m\u001b[0;34m\u001b[0m\u001b[0m\n\u001b[0;32m-> 1073\u001b[0;31m         unconnected_gradients=unconnected_gradients)\n\u001b[0m\u001b[1;32m   1074\u001b[0m \u001b[0;34m\u001b[0m\u001b[0m\n\u001b[1;32m   1075\u001b[0m     \u001b[0;32mif\u001b[0m \u001b[0;32mnot\u001b[0m \u001b[0mself\u001b[0m\u001b[0;34m.\u001b[0m\u001b[0m_persistent\u001b[0m\u001b[0;34m:\u001b[0m\u001b[0;34m\u001b[0m\u001b[0;34m\u001b[0m\u001b[0m\n",
      "\u001b[0;32m~/anaconda3/envs/tf-fs-examples/lib/python3.7/site-packages/tensorflow/python/eager/imperative_grad.py\u001b[0m in \u001b[0;36mimperative_grad\u001b[0;34m(tape, target, sources, output_gradients, sources_raw, unconnected_gradients)\u001b[0m\n\u001b[1;32m     75\u001b[0m       \u001b[0moutput_gradients\u001b[0m\u001b[0;34m,\u001b[0m\u001b[0;34m\u001b[0m\u001b[0;34m\u001b[0m\u001b[0m\n\u001b[1;32m     76\u001b[0m       \u001b[0msources_raw\u001b[0m\u001b[0;34m,\u001b[0m\u001b[0;34m\u001b[0m\u001b[0;34m\u001b[0m\u001b[0m\n\u001b[0;32m---> 77\u001b[0;31m       compat.as_str(unconnected_gradients.value))\n\u001b[0m",
      "\u001b[0;32m~/anaconda3/envs/tf-fs-examples/lib/python3.7/site-packages/tensorflow/python/eager/backprop.py\u001b[0m in \u001b[0;36m_gradient_function\u001b[0;34m(op_name, attr_tuple, num_inputs, inputs, outputs, out_grads, skip_input_indices, forward_pass_name_scope)\u001b[0m\n\u001b[1;32m    149\u001b[0m   \"\"\"\n\u001b[1;32m    150\u001b[0m   \u001b[0mmock_op\u001b[0m \u001b[0;34m=\u001b[0m \u001b[0m_MockOp\u001b[0m\u001b[0;34m(\u001b[0m\u001b[0mattr_tuple\u001b[0m\u001b[0;34m,\u001b[0m \u001b[0minputs\u001b[0m\u001b[0;34m,\u001b[0m \u001b[0moutputs\u001b[0m\u001b[0;34m,\u001b[0m \u001b[0mop_name\u001b[0m\u001b[0;34m,\u001b[0m \u001b[0mskip_input_indices\u001b[0m\u001b[0;34m)\u001b[0m\u001b[0;34m\u001b[0m\u001b[0;34m\u001b[0m\u001b[0m\n\u001b[0;32m--> 151\u001b[0;31m   \u001b[0mgrad_fn\u001b[0m \u001b[0;34m=\u001b[0m \u001b[0mops\u001b[0m\u001b[0;34m.\u001b[0m\u001b[0m_gradient_registry\u001b[0m\u001b[0;34m.\u001b[0m\u001b[0mlookup\u001b[0m\u001b[0;34m(\u001b[0m\u001b[0mop_name\u001b[0m\u001b[0;34m)\u001b[0m  \u001b[0;31m# pylint: disable=protected-access\u001b[0m\u001b[0;34m\u001b[0m\u001b[0;34m\u001b[0m\u001b[0m\n\u001b[0m\u001b[1;32m    152\u001b[0m   \u001b[0;32mif\u001b[0m \u001b[0mgrad_fn\u001b[0m \u001b[0;32mis\u001b[0m \u001b[0;32mNone\u001b[0m\u001b[0;34m:\u001b[0m\u001b[0;34m\u001b[0m\u001b[0;34m\u001b[0m\u001b[0m\n\u001b[1;32m    153\u001b[0m     \u001b[0;32mreturn\u001b[0m \u001b[0;34m[\u001b[0m\u001b[0;32mNone\u001b[0m\u001b[0;34m]\u001b[0m \u001b[0;34m*\u001b[0m \u001b[0mnum_inputs\u001b[0m\u001b[0;34m\u001b[0m\u001b[0;34m\u001b[0m\u001b[0m\n",
      "\u001b[0;32m~/anaconda3/envs/tf-fs-examples/lib/python3.7/site-packages/tensorflow/python/framework/registry.py\u001b[0m in \u001b[0;36mlookup\u001b[0;34m(self, name)\u001b[0m\n\u001b[1;32m     90\u001b[0m       \u001b[0mLookupError\u001b[0m\u001b[0;34m:\u001b[0m \u001b[0;32mif\u001b[0m \u001b[0;34m\"name\"\u001b[0m \u001b[0mhas\u001b[0m \u001b[0;32mnot\u001b[0m \u001b[0mbeen\u001b[0m \u001b[0mregistered\u001b[0m\u001b[0;34m.\u001b[0m\u001b[0;34m\u001b[0m\u001b[0;34m\u001b[0m\u001b[0m\n\u001b[1;32m     91\u001b[0m     \"\"\"\n\u001b[0;32m---> 92\u001b[0;31m     \u001b[0mname\u001b[0m \u001b[0;34m=\u001b[0m \u001b[0mcompat\u001b[0m\u001b[0;34m.\u001b[0m\u001b[0mas_str\u001b[0m\u001b[0;34m(\u001b[0m\u001b[0mname\u001b[0m\u001b[0;34m)\u001b[0m\u001b[0;34m\u001b[0m\u001b[0;34m\u001b[0m\u001b[0m\n\u001b[0m\u001b[1;32m     93\u001b[0m     \u001b[0;32mif\u001b[0m \u001b[0mname\u001b[0m \u001b[0;32min\u001b[0m \u001b[0mself\u001b[0m\u001b[0;34m.\u001b[0m\u001b[0m_registry\u001b[0m\u001b[0;34m:\u001b[0m\u001b[0;34m\u001b[0m\u001b[0;34m\u001b[0m\u001b[0m\n\u001b[1;32m     94\u001b[0m       \u001b[0;32mreturn\u001b[0m \u001b[0mself\u001b[0m\u001b[0;34m.\u001b[0m\u001b[0m_registry\u001b[0m\u001b[0;34m[\u001b[0m\u001b[0mname\u001b[0m\u001b[0;34m]\u001b[0m\u001b[0;34m[\u001b[0m\u001b[0m_TYPE_TAG\u001b[0m\u001b[0;34m]\u001b[0m\u001b[0;34m\u001b[0m\u001b[0;34m\u001b[0m\u001b[0m\n",
      "\u001b[0;32m~/anaconda3/envs/tf-fs-examples/lib/python3.7/site-packages/tensorflow/python/util/compat.py\u001b[0m in \u001b[0;36mas_str\u001b[0;34m(bytes_or_text, encoding)\u001b[0m\n\u001b[1;32m    112\u001b[0m \u001b[0;34m\u001b[0m\u001b[0m\n\u001b[1;32m    113\u001b[0m \u001b[0;34m\u001b[0m\u001b[0m\n\u001b[0;32m--> 114\u001b[0;31m \u001b[0;32mdef\u001b[0m \u001b[0mas_str\u001b[0m\u001b[0;34m(\u001b[0m\u001b[0mbytes_or_text\u001b[0m\u001b[0;34m,\u001b[0m \u001b[0mencoding\u001b[0m\u001b[0;34m=\u001b[0m\u001b[0;34m'utf-8'\u001b[0m\u001b[0;34m)\u001b[0m\u001b[0;34m:\u001b[0m\u001b[0;34m\u001b[0m\u001b[0;34m\u001b[0m\u001b[0m\n\u001b[0m\u001b[1;32m    115\u001b[0m   \u001b[0;32mif\u001b[0m \u001b[0m_six\u001b[0m\u001b[0;34m.\u001b[0m\u001b[0mPY2\u001b[0m\u001b[0;34m:\u001b[0m\u001b[0;34m\u001b[0m\u001b[0;34m\u001b[0m\u001b[0m\n\u001b[1;32m    116\u001b[0m     \u001b[0;32mreturn\u001b[0m \u001b[0mas_bytes\u001b[0m\u001b[0;34m(\u001b[0m\u001b[0mbytes_or_text\u001b[0m\u001b[0;34m,\u001b[0m \u001b[0mencoding\u001b[0m\u001b[0;34m)\u001b[0m\u001b[0;34m\u001b[0m\u001b[0;34m\u001b[0m\u001b[0m\n",
      "\u001b[0;31mKeyboardInterrupt\u001b[0m: "
     ]
    }
   ],
   "source": [
    "train()"
   ]
  },
  {
   "cell_type": "code",
   "execution_count": null,
   "metadata": {
    "colab": {},
    "colab_type": "code",
    "id": "7EDtKSic-eyj"
   },
   "outputs": [],
   "source": [
    "# encoder.save('my_awesome_model.h5')"
   ]
  },
  {
   "cell_type": "code",
   "execution_count": 229,
   "metadata": {
    "colab": {},
    "colab_type": "code",
    "id": "5xA97jdAhZB9"
   },
   "outputs": [
    {
     "data": {
      "text/plain": [
       "[<matplotlib.lines.Line2D at 0x7fd0761ffc90>]"
      ]
     },
     "execution_count": 229,
     "metadata": {},
     "output_type": "execute_result"
    },
    {
     "data": {
      "image/png": "[encoded data removed]",
      "text/plain": [
       "<Figure size 1080x720 with 1 Axes>"
      ]
     },
     "metadata": {
      "needs_background": "light"
     },
     "output_type": "display_data"
    }
   ],
   "source": [
    "plt.figure(figsize=(15, 10))\n",
    "xx = np.arange(0, 10*len(losses), 10)\n",
    "plt.plot(xx, losses)\n",
    "smoothed = np.convolve(losses, np.exp(-0.01*np.arange(7))/np.sum(np.exp(-0.01*np.arange(7))), 'valid')\n",
    "smootheded = np.convolve(smoothed, np.exp(-0.01*np.arange(7))/np.sum(np.exp(-0.01*np.arange(7))), 'valid')\n",
    "plt.plot(xx[13:-13], np.convolve(smootheded, np.exp(-0.01*np.arange(15))/np.sum(np.exp(-0.01*np.arange(15))), 'valid'))\n",
    "plt.plot(xx[::10], 4*np.array(val_losses))"
   ]
  },
  {
   "cell_type": "markdown",
   "metadata": {
    "colab_type": "text",
    "id": "qXKQp1swDsUc"
   },
   "source": [
    "# Evaluation on one task"
   ]
  },
  {
   "cell_type": "code",
   "execution_count": 16,
   "metadata": {
    "colab": {},
    "colab_type": "code",
    "id": "tu8AK9_I-KG1"
   },
   "outputs": [],
   "source": [
    "from tensorflow_fewshot.models.gradient_utils import take_one_gradient_step, take_n_gradient_step"
   ]
  },
  {
   "cell_type": "code",
   "execution_count": null,
   "metadata": {
    "colab": {},
    "colab_type": "code",
    "id": "AX4-H5c_zOSa"
   },
   "outputs": [],
   "source": [
    "!cp /content/drive/My\\ Drive/models/maml_miniimagenet_ep_19000.h5 ./"
   ]
  },
  {
   "cell_type": "code",
   "execution_count": null,
   "metadata": {
    "colab": {},
    "colab_type": "code",
    "id": "VOVksvX29Kks"
   },
   "outputs": [],
   "source": [
    "test_model = tf.keras.models.load_model('maml_miniimagenet_ep_19000.h5')"
   ]
  },
  {
   "cell_type": "code",
   "execution_count": null,
   "metadata": {
    "colab": {},
    "colab_type": "code",
    "id": "scwThreYaZWs"
   },
   "outputs": [],
   "source": [
    "# Change MAML internal model for demonstration's sake\n",
    "model.model = test_model"
   ]
  },
  {
   "cell_type": "code",
   "execution_count": 212,
   "metadata": {
    "colab": {},
    "colab_type": "code",
    "id": "FImZVM9MDE4F"
   },
   "outputs": [],
   "source": [
    "x = np.random.uniform(-5, 5, size=(20,1,1,1))\n",
    "a = np.random.uniform(0.1, 5)\n",
    "p = np.random.uniform(0, np.pi)\n",
    "y = a*np.sin((x + p))\n",
    "support_x, support_y = x[1::2], y[1::2]\n",
    "query_x, query_y = x[::2], y[::2]\n",
    "nice_x = np.linspace(-5, 5, 50)\n",
    "nice_y = a*np.sin((nice_x + p))"
   ]
  },
  {
   "cell_type": "code",
   "execution_count": 213,
   "metadata": {
    "colab": {},
    "colab_type": "code",
    "id": "C00TuMGyY56g"
   },
   "outputs": [],
   "source": [
    "finetuned_model = model.fit(support_x, support_y, alpha=0.001, n_step=5)\n",
    "query_preds = finetuned_model(nice_x)"
   ]
  },
  {
   "cell_type": "code",
   "execution_count": 214,
   "metadata": {},
   "outputs": [
    {
     "data": {
      "text/plain": [
       "<matplotlib.collections.PathCollection at 0x7fd074ae35d0>"
      ]
     },
     "execution_count": 214,
     "metadata": {},
     "output_type": "execute_result"
    },
    {
     "data": {
      "image/png": "[encoded data removed]",
      "text/plain": [
       "<Figure size 432x288 with 1 Axes>"
      ]
     },
     "metadata": {
      "needs_background": "light"
     },
     "output_type": "display_data"
    }
   ],
   "source": [
    "plt.scatter(nice_x, nice_y)\n",
    "plt.scatter(support_x, support_y)\n",
    "plt.scatter(nice_x, query_preds)"
   ]
  },
  {
   "cell_type": "markdown",
   "metadata": {
    "colab_type": "text",
    "id": "ktXFAH2WdTZq"
   },
   "source": [
    "# Accuracy evaluation"
   ]
  },
  {
   "cell_type": "code",
   "execution_count": null,
   "metadata": {
    "colab": {},
    "colab_type": "code",
    "id": "scDT5Su36kLV"
   },
   "outputs": [],
   "source": [
    "test_set = np.load('/content/miniImageNet/mini-imagenet-cache-test.pkl', allow_pickle=True)"
   ]
  },
  {
   "cell_type": "code",
   "execution_count": null,
   "metadata": {
    "colab": {},
    "colab_type": "code",
    "id": "RQVsMZia6irN"
   },
   "outputs": [],
   "source": [
    "test_X = test_set['image_data']/255\n",
    "test_Y = np.zeros((test_X.shape[0],), dtype=np.int32)\n",
    "for i_lbl, class_label in enumerate(test_set['class_dict']):\n",
    "    for i_sample in test_set['class_dict'][class_label]:\n",
    "        test_Y[i_sample] = i_lbl\n"
   ]
  },
  {
   "cell_type": "code",
   "execution_count": null,
   "metadata": {
    "colab": {},
    "colab_type": "code",
    "id": "HJQIRcUOnfDn"
   },
   "outputs": [],
   "source": [
    "test_ds = MetaDatasetFromArray(test_X, test_Y)"
   ]
  },
  {
   "cell_type": "code",
   "execution_count": null,
   "metadata": {
    "colab": {},
    "colab_type": "code",
    "id": "D4pPsz68HEW1"
   },
   "outputs": [],
   "source": [
    "n_task = 1000\n",
    "acc, var = evaluate(model, test_ds, n_task)"
   ]
  },
  {
   "cell_type": "code",
   "execution_count": null,
   "metadata": {
    "colab": {},
    "colab_type": "code",
    "id": "xwFqZkIlHOdp"
   },
   "outputs": [],
   "source": [
    "mean_acc = np.mean(acc)\n",
    "stds = np.std(acc)\n",
    "ci95 = 1.96*stds/np.sqrt(n_task)\n",
    "print(\"Accuracy is\", round(mean_acc*100, 1), \"% +/-\", round(ci95*100, 2), \"%\")"
   ]
  }
 ],
 "metadata": {
  "accelerator": "GPU",
  "colab": {
   "collapsed_sections": [],
   "name": "MAML_sinusoides.ipynb",
   "provenance": [],
   "toc_visible": true
  },
  "kernelspec": {
   "display_name": "tf-fs-examples",
   "language": "python",
   "name": "tf-fs-examples"
  },
  "language_info": {
   "codemirror_mode": {
    "name": "ipython",
    "version": 3
   },
   "file_extension": ".py",
   "mimetype": "text/x-python",
   "name": "python",
   "nbconvert_exporter": "python",
   "pygments_lexer": "ipython3",
   "version": "3.7.7"
  }
 },
 "nbformat": 4,
 "nbformat_minor": 1
}
