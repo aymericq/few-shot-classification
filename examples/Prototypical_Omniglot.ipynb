{
 "cells": [
  {
   "cell_type": "code",
   "execution_count": 1,
   "metadata": {},
   "outputs": [],
   "source": [
    "import tensorflow as tf\n",
    "import numpy as np\n",
    "\n",
    "import matplotlib.pyplot as plt\n",
    "from mpl_toolkits.axes_grid1 import ImageGrid\n",
    "\n",
    "from skimage.transform import resize\n",
    "from skimage.color import rgb2gray\n",
    "\n",
    "import tensorflow_datasets as tfds\n",
    "\n",
    "from IPython.display import display, clear_output"
   ]
  },
  {
   "cell_type": "code",
   "execution_count": 3,
   "metadata": {},
   "outputs": [
    {
     "data": {
      "text/plain": [
       "'Test set 98%'"
      ]
     },
     "metadata": {},
     "output_type": "display_data"
    },
    {
     "name": "stdout",
     "output_type": "stream",
     "text": [
      "Train X shape: (77120, 28, 28, 1)\n",
      "Train Y shape: (77120,)\n",
      "Test X shape: (13180, 28, 28, 1)\n",
      "Test Y shape: (13180,)\n"
     ]
    }
   ],
   "source": [
    "# Split train/test\n",
    "train_ds = tfds.load(\"omniglot\", split=tfds.Split.TRAIN, batch_size=-1)\n",
    "# Downscaling is important, otherwise the network isn't powerful enough to train\n",
    "omniglot_X = tfds.as_numpy(train_ds)['image']\n",
    "train_X = np.zeros((4 * omniglot_X.shape[0], 28, 28, 1))\n",
    "train_Y = tfds.as_numpy(train_ds)['label']\n",
    "train_Y = np.tile(train_Y, 4) + np.repeat([0, 1, 2, 3], train_Y.shape[0]) * np.max(train_Y)\n",
    "resize_batch_size = 256\n",
    "for i in range(omniglot_X.shape[0] // resize_batch_size):\n",
    "    if i % 1 == 0:\n",
    "        clear_output(wait=True)\n",
    "        display('resize + grayscale: ' + str(i * 100 // (omniglot_X.shape[0] // resize_batch_size)) + '%')\n",
    "    train_X[i * resize_batch_size:(i + 1) * resize_batch_size, :, :, :] = resize(\n",
    "        rgb2gray(\n",
    "            omniglot_X[i * resize_batch_size:(i + 1) * resize_batch_size, :, :, :]\n",
    "        )[:, :, :, None],\n",
    "        (resize_batch_size, 28, 28, 1))\n",
    "\n",
    "for i in range(omniglot_X.shape[0] // resize_batch_size):\n",
    "    clear_output(wait=True)\n",
    "    display('rotations ' + str(i * 100 // (omniglot_X.shape[0] // resize_batch_size)) + '%')\n",
    "    for rot in [1, 2, 3]:\n",
    "        train_X[\n",
    "        omniglot_X.shape[0] * rot + i * resize_batch_size:\n",
    "        omniglot_X.shape[0] * rot + (i + 1) * resize_batch_size,\n",
    "        :, :, :\n",
    "        ] = np.rot90(train_X[\n",
    "                     i * resize_batch_size:(i + 1) * resize_batch_size, :, :, :\n",
    "                     ], rot, (1, 2))\n",
    "\n",
    "test_ds = tfds.load(\"omniglot\", split=tfds.Split.TEST, batch_size=-1)\n",
    "omniglot_test_X = tfds.as_numpy(test_ds)['image']\n",
    "test_X = np.zeros((omniglot_test_X.shape[0], 28, 28, 1))\n",
    "test_Y = tfds.as_numpy(test_ds)['label']\n",
    "for i in range(test_X.shape[0] // resize_batch_size):\n",
    "    if i % 1 == 0:\n",
    "        clear_output(wait=True)\n",
    "        display('Test set ' + str(i * 100 // (test_X.shape[0] // resize_batch_size)) + '%')\n",
    "    test_X[i * resize_batch_size:(i + 1) * resize_batch_size, :, :, :] = resize(\n",
    "        rgb2gray(\n",
    "            omniglot_test_X[i * resize_batch_size:(i + 1) * resize_batch_size, :, :, :]\n",
    "        )[:, :, :, None],\n",
    "        (resize_batch_size, 28, 28, 1))\n",
    "\n",
    "# Display the split\n",
    "print(\"Train X shape:\", train_X.shape)\n",
    "print(\"Train Y shape:\", train_Y.shape)\n",
    "print(\"Test X shape:\", test_X.shape)\n",
    "print(\"Test Y shape:\", test_Y.shape)"
   ]
  },
  {
   "cell_type": "code",
   "execution_count": 191,
   "metadata": {},
   "outputs": [
    {
     "data": {
      "text/plain": [
       "<module 'tensorflow_fewshot.models.prototypical_network' from '../tensorflow_fewshot/models/prototypical_network.py'>"
      ]
     },
     "execution_count": 191,
     "metadata": {},
     "output_type": "execute_result"
    }
   ],
   "source": [
    "import tensorflow_fewshot.models.prototypical_network as ptn\n",
    "\n",
    "import importlib\n",
    "importlib.reload(ptn)"
   ]
  },
  {
   "cell_type": "code",
   "execution_count": 192,
   "metadata": {},
   "outputs": [],
   "source": [
    "protonet = ptn.PrototypicalNetwork()"
   ]
  },
  {
   "cell_type": "code",
   "execution_count": 193,
   "metadata": {},
   "outputs": [
    {
     "name": "stdout",
     "output_type": "stream",
     "text": [
      "WARNING:tensorflow:Layer conv2d_120 is casting an input tensor from dtype float64 to the layer's dtype of float32, which is new behavior in TensorFlow 2.  The layer has dtype float32 because it's dtype defaults to floatx.\n",
      "\n",
      "If you intended to run this layer in float32, you can safely ignore this warning. If in doubt, this warning is likely only an issue if you are porting a TensorFlow 1.X model to TensorFlow 2.\n",
      "\n",
      "To change all layers to have dtype float64 by default, call `tf.keras.backend.set_floatx('float64')`. To change just this layer, pass dtype='float64' to the layer constructor. If you are the author of this layer, you can disable autocasting by passing autocast=False to the base Layer constructor.\n",
      "\n"
     ]
    },
    {
     "name": "stderr",
     "output_type": "stream",
     "text": [
      "WARNING:tensorflow:Layer conv2d_120 is casting an input tensor from dtype float64 to the layer's dtype of float32, which is new behavior in TensorFlow 2.  The layer has dtype float32 because it's dtype defaults to floatx.\n",
      "\n",
      "If you intended to run this layer in float32, you can safely ignore this warning. If in doubt, this warning is likely only an issue if you are porting a TensorFlow 1.X model to TensorFlow 2.\n",
      "\n",
      "To change all layers to have dtype float64 by default, call `tf.keras.backend.set_floatx('float64')`. To change just this layer, pass dtype='float64' to the layer constructor. If you are the author of this layer, you can disable autocasting by passing autocast=False to the base Layer constructor.\n",
      "\n"
     ]
    },
    {
     "data": {
      "text/plain": [
       "TensorShape([5, 64])"
      ]
     },
     "execution_count": 193,
     "metadata": {},
     "output_type": "execute_result"
    }
   ],
   "source": [
    "protonet.encoder(test_X[200:205,:,:,:]).shape"
   ]
  },
  {
   "cell_type": "code",
   "execution_count": 125,
   "metadata": {},
   "outputs": [
    {
     "name": "stdout",
     "output_type": "stream",
     "text": [
      "WARNING:tensorflow:Layer conv2d_56 is casting an input tensor from dtype float64 to the layer's dtype of float32, which is new behavior in TensorFlow 2.  The layer has dtype float32 because it's dtype defaults to floatx.\n",
      "\n",
      "If you intended to run this layer in float32, you can safely ignore this warning. If in doubt, this warning is likely only an issue if you are porting a TensorFlow 1.X model to TensorFlow 2.\n",
      "\n",
      "To change all layers to have dtype float64 by default, call `tf.keras.backend.set_floatx('float64')`. To change just this layer, pass dtype='float64' to the layer constructor. If you are the author of this layer, you can disable autocasting by passing autocast=False to the base Layer constructor.\n",
      "\n"
     ]
    },
    {
     "name": "stderr",
     "output_type": "stream",
     "text": [
      "WARNING:tensorflow:Layer conv2d_56 is casting an input tensor from dtype float64 to the layer's dtype of float32, which is new behavior in TensorFlow 2.  The layer has dtype float32 because it's dtype defaults to floatx.\n",
      "\n",
      "If you intended to run this layer in float32, you can safely ignore this warning. If in doubt, this warning is likely only an issue if you are porting a TensorFlow 1.X model to TensorFlow 2.\n",
      "\n",
      "To change all layers to have dtype float64 by default, call `tf.keras.backend.set_floatx('float64')`. To change just this layer, pass dtype='float64' to the layer constructor. If you are the author of this layer, you can disable autocasting by passing autocast=False to the base Layer constructor.\n",
      "\n"
     ]
    },
    {
     "name": "stdout",
     "output_type": "stream",
     "text": [
      "Episode 0; lr: 1.00e-03, training loss: 1136.0100, train accuracy: 0.65\n"
     ]
    }
   ],
   "source": [
    "protonet.meta_train(train_X, train_Y, n_episode=2)"
   ]
  },
  {
   "cell_type": "code",
   "execution_count": 194,
   "metadata": {},
   "outputs": [],
   "source": [
    "protonet.train(test_X[:200,:,:,:].astype(np.float32), test_Y[:200])"
   ]
  },
  {
   "cell_type": "code",
   "execution_count": 196,
   "metadata": {},
   "outputs": [
    {
     "data": {
      "text/plain": [
       "array([60, 60, 60, 60, 60])"
      ]
     },
     "execution_count": 196,
     "metadata": {},
     "output_type": "execute_result"
    }
   ],
   "source": [
    "protonet.predict(test_X[200:205,:,:,:])"
   ]
  }
 ],
 "metadata": {
  "kernelspec": {
   "display_name": "tf-fs-examples",
   "language": "python",
   "name": "tf-fs-examples"
  },
  "language_info": {
   "codemirror_mode": {
    "name": "ipython",
    "version": 3
   },
   "file_extension": ".py",
   "mimetype": "text/x-python",
   "name": "python",
   "nbconvert_exporter": "python",
   "pygments_lexer": "ipython3",
   "version": "3.7.7"
  }
 },
 "nbformat": 4,
 "nbformat_minor": 4
}
