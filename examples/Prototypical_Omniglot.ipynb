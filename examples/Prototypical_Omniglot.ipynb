{
 "cells": [
  {
   "cell_type": "code",
   "execution_count": 1,
   "metadata": {},
   "outputs": [],
   "source": [
    "import os\n",
    "import sys\n",
    "sys.path.insert(0, os.path.abspath('../tensorflow_fewshot/'))"
   ]
  },
  {
   "cell_type": "code",
   "execution_count": 2,
   "metadata": {},
   "outputs": [],
   "source": [
    "import tensorflow_fewshot.models.prototypical_network as ptn\n",
    "import tensorflow_fewshot.models.utils as models_utils"
   ]
  },
  {
   "cell_type": "code",
   "execution_count": 3,
   "metadata": {},
   "outputs": [],
   "source": [
    "import tensorflow as tf\n",
    "import numpy as np\n",
    "\n",
    "import matplotlib.pyplot as plt\n",
    "from mpl_toolkits.axes_grid1 import ImageGrid\n",
    "\n",
    "from skimage.transform import resize\n",
    "from skimage.color import rgb2gray\n",
    "\n",
    "import tensorflow_datasets as tfds\n",
    "\n",
    "from IPython.display import display, clear_output"
   ]
  },
  {
   "cell_type": "markdown",
   "metadata": {},
   "source": [
    "## Dataset"
   ]
  },
  {
   "cell_type": "code",
   "execution_count": 4,
   "metadata": {},
   "outputs": [
    {
     "data": {
      "text/plain": [
       "'Test set 98%'"
      ]
     },
     "metadata": {},
     "output_type": "display_data"
    },
    {
     "name": "stdout",
     "output_type": "stream",
     "text": [
      "Train X shape: (77120, 28, 28, 1)\n",
      "Train Y shape: (77120,)\n",
      "Test X shape: (13180, 28, 28, 1)\n",
      "Test Y shape: (13180,)\n"
     ]
    }
   ],
   "source": [
    "# Split train/test\n",
    "train_ds = tfds.load(\"omniglot\", split=tfds.Split.TRAIN, batch_size=-1)\n",
    "# Downscaling is important, otherwise the network isn't powerful enough to train\n",
    "omniglot_X = tfds.as_numpy(train_ds)['image']\n",
    "train_X = np.zeros((4 * omniglot_X.shape[0], 28, 28, 1))\n",
    "train_Y = tfds.as_numpy(train_ds)['label']\n",
    "train_Y = np.tile(train_Y, 4) + np.repeat([0, 1, 2, 3], train_Y.shape[0]) * np.max(train_Y)\n",
    "resize_batch_size = 256\n",
    "for i in range(omniglot_X.shape[0] // resize_batch_size):\n",
    "    if i % 1 == 0:\n",
    "        clear_output(wait=True)\n",
    "        display('resize + grayscale: ' + str(i * 100 // (omniglot_X.shape[0] // resize_batch_size)) + '%')\n",
    "    train_X[i * resize_batch_size:(i + 1) * resize_batch_size, :, :, :] = resize(\n",
    "        rgb2gray(\n",
    "            omniglot_X[i * resize_batch_size:(i + 1) * resize_batch_size, :, :, :]\n",
    "        )[:, :, :, None],\n",
    "        (resize_batch_size, 28, 28, 1))\n",
    "\n",
    "for i in range(omniglot_X.shape[0] // resize_batch_size):\n",
    "    clear_output(wait=True)\n",
    "    display('rotations ' + str(i * 100 // (omniglot_X.shape[0] // resize_batch_size)) + '%')\n",
    "    for rot in [1, 2, 3]:\n",
    "        train_X[\n",
    "        omniglot_X.shape[0] * rot + i * resize_batch_size:\n",
    "        omniglot_X.shape[0] * rot + (i + 1) * resize_batch_size,\n",
    "        :, :, :\n",
    "        ] = np.rot90(train_X[\n",
    "                     i * resize_batch_size:(i + 1) * resize_batch_size, :, :, :\n",
    "                     ], rot, (1, 2))\n",
    "\n",
    "test_ds = tfds.load(\"omniglot\", split=tfds.Split.TEST, batch_size=-1)\n",
    "omniglot_test_X = tfds.as_numpy(test_ds)['image']\n",
    "test_X = np.zeros((omniglot_test_X.shape[0], 28, 28, 1))\n",
    "test_Y = tfds.as_numpy(test_ds)['label']\n",
    "for i in range(test_X.shape[0] // resize_batch_size):\n",
    "    if i % 1 == 0:\n",
    "        clear_output(wait=True)\n",
    "        display('Test set ' + str(i * 100 // (test_X.shape[0] // resize_batch_size)) + '%')\n",
    "    test_X[i * resize_batch_size:(i + 1) * resize_batch_size, :, :, :] = resize(\n",
    "        rgb2gray(\n",
    "            omniglot_test_X[i * resize_batch_size:(i + 1) * resize_batch_size, :, :, :]\n",
    "        )[:, :, :, None],\n",
    "        (resize_batch_size, 28, 28, 1))\n",
    "\n",
    "# Display the split\n",
    "print(\"Train X shape:\", train_X.shape)\n",
    "print(\"Train Y shape:\", train_Y.shape)\n",
    "print(\"Test X shape:\", test_X.shape)\n",
    "print(\"Test Y shape:\", test_Y.shape)"
   ]
  },
  {
   "cell_type": "markdown",
   "metadata": {},
   "source": [
    "## Training"
   ]
  },
  {
   "cell_type": "code",
   "execution_count": 5,
   "metadata": {},
   "outputs": [],
   "source": [
    "encoder = models_utils.create_imageNetCNN(input_shape=(28, 28, 1))"
   ]
  },
  {
   "cell_type": "code",
   "execution_count": 6,
   "metadata": {},
   "outputs": [],
   "source": [
    "protonet = ptn.PrototypicalNetwork(encoder=encoder)"
   ]
  },
  {
   "cell_type": "code",
   "execution_count": 7,
   "metadata": {},
   "outputs": [
    {
     "data": {
      "text/plain": [
       "TensorShape([5, 64])"
      ]
     },
     "execution_count": 7,
     "metadata": {},
     "output_type": "execute_result"
    }
   ],
   "source": [
    "protonet.encoder(test_X[200:205,:,:,:]).shape"
   ]
  },
  {
   "cell_type": "code",
   "execution_count": 8,
   "metadata": {},
   "outputs": [
    {
     "name": "stdout",
     "output_type": "stream",
     "text": [
      "Episode 0; lr: 1.00e-03, training loss: 1222.8706, train accuracy: 0.53\n"
     ]
    }
   ],
   "source": [
    "acc, loss, test_acc = protonet.meta_train(train_X, train_Y, n_episode=200)"
   ]
  },
  {
   "cell_type": "markdown",
   "metadata": {},
   "source": [
    "## Test"
   ]
  },
  {
   "cell_type": "code",
   "execution_count": 15,
   "metadata": {},
   "outputs": [
    {
     "name": "stdout",
     "output_type": "stream",
     "text": [
      "Test classes are: [1570 1241 1284 1326  971]\n"
     ]
    }
   ],
   "source": [
    "test_classes = np.random.choice(np.unique(test_Y), size=5, replace=False)\n",
    "print(\"Test classes are:\", test_classes)\n",
    "\n",
    "fit_indices = np.zeros((25,), dtype=np.int32)\n",
    "test_indices = np.zeros((25,), dtype=np.int32)\n",
    "for i in range(5):\n",
    "    class_indices = np.random.choice(\n",
    "        np.argwhere(test_Y == test_classes[i]).flatten(),\n",
    "        size=10,\n",
    "        replace=False\n",
    "    )\n",
    "    fit_indices[i*5:(i+1)*5] = class_indices[:5]\n",
    "    test_indices[i*5:(i+1)*5] = class_indices[5:]\n",
    "\n",
    "np.random.shuffle(fit_indices)\n",
    "np.random.shuffle(test_indices)\n",
    "\n",
    "fit_data = test_X[fit_indices,:,:,:]\n",
    "fit_labels = test_Y[fit_indices]\n",
    "\n",
    "test_data = test_X[test_indices,:,:,:]\n",
    "test_labels = test_Y[test_indices]"
   ]
  },
  {
   "cell_type": "code",
   "execution_count": 16,
   "metadata": {},
   "outputs": [],
   "source": [
    "protonet.fit(fit_data.astype(np.float32), fit_labels)"
   ]
  },
  {
   "cell_type": "code",
   "execution_count": 17,
   "metadata": {},
   "outputs": [],
   "source": [
    "test_preds = protonet.predict(test_data)"
   ]
  },
  {
   "cell_type": "code",
   "execution_count": 18,
   "metadata": {},
   "outputs": [
    {
     "data": {
      "text/plain": [
       "array([1284,  971, 1326, 1326, 1326, 1570, 1570,  971, 1284, 1241, 1241,\n",
       "       1284, 1570, 1570, 1241, 1326,  971, 1326,  971, 1570,  971, 1284,\n",
       "       1570, 1570, 1241], dtype=int32)"
      ]
     },
     "execution_count": 18,
     "metadata": {},
     "output_type": "execute_result"
    }
   ],
   "source": [
    "test_preds"
   ]
  },
  {
   "cell_type": "code",
   "execution_count": 19,
   "metadata": {},
   "outputs": [
    {
     "data": {
      "text/plain": [
       "array([1284,  971, 1326, 1326, 1326, 1570, 1570,  971, 1284, 1241, 1241,\n",
       "       1284, 1241, 1284, 1241, 1326,  971, 1326,  971, 1570,  971, 1284,\n",
       "       1570, 1570, 1241])"
      ]
     },
     "execution_count": 19,
     "metadata": {},
     "output_type": "execute_result"
    }
   ],
   "source": [
    "test_labels"
   ]
  },
  {
   "cell_type": "code",
   "execution_count": 20,
   "metadata": {},
   "outputs": [
    {
     "name": "stdout",
     "output_type": "stream",
     "text": [
      "Test accuracy is: 0.92\n"
     ]
    }
   ],
   "source": [
    "acc = np.mean(test_preds == test_labels)\n",
    "print(\"Test accuracy is:\", acc)"
   ]
  },
  {
   "cell_type": "code",
   "execution_count": null,
   "metadata": {},
   "outputs": [],
   "source": []
  }
 ],
 "metadata": {
  "kernelspec": {
   "display_name": "tf-fs-examples",
   "language": "python",
   "name": "tf-fs-examples"
  },
  "language_info": {
   "codemirror_mode": {
    "name": "ipython",
    "version": 3
   },
   "file_extension": ".py",
   "mimetype": "text/x-python",
   "name": "python",
   "nbconvert_exporter": "python",
   "pygments_lexer": "ipython3",
   "version": "3.7.7"
  }
 },
 "nbformat": 4,
 "nbformat_minor": 4
}
