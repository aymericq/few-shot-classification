{
 "cells": [
  {
   "cell_type": "markdown",
   "metadata": {},
   "source": [
    "# Introduction"
   ]
  },
  {
   "cell_type": "markdown",
   "metadata": {},
   "source": [
    "In this notebook, we demonstrate the use of Prototypical Network model from `tensorflow-fewshot`. We use the Omniglot dataset as an example, and we aim to replicate the results claimed in the paper that introduced Prototypical Networks: *Prototpical Networks for Few-shot Learning* (Snell et al., 2017)."
   ]
  },
  {
   "cell_type": "markdown",
   "metadata": {},
   "source": [
    "## Imports"
   ]
  },
  {
   "cell_type": "code",
   "execution_count": 1,
   "metadata": {},
   "outputs": [],
   "source": [
    "import os\n",
    "import sys"
   ]
  },
  {
   "cell_type": "code",
   "execution_count": 2,
   "metadata": {},
   "outputs": [],
   "source": [
    "from tensorflow_fewshot.models import PrototypicalNetwork\n",
    "import tensorflow_fewshot.models.utils as utils\n",
    "from tensorflow_fewshot.datasets import MetaDatasetFromArray, "
   ]
  },
  {
   "cell_type": "code",
   "execution_count": 3,
   "metadata": {},
   "outputs": [],
   "source": [
    "import tensorflow as tf\n",
    "import numpy as np\n",
    "\n",
    "import matplotlib.pyplot as plt\n",
    "from mpl_toolkits.axes_grid1 import ImageGrid\n",
    "\n",
    "from skimage.transform import resize\n",
    "from skimage.color import rgb2gray\n",
    "\n",
    "import tensorflow_datasets as tfds\n",
    "\n",
    "from IPython.display import display, clear_output"
   ]
  },
  {
   "cell_type": "markdown",
   "metadata": {},
   "source": [
    "## Dataset loading and preprocessing"
   ]
  },
  {
   "cell_type": "code",
   "execution_count": 4,
   "metadata": {},
   "outputs": [
    {
     "data": {
      "text/plain": [
       "'Test set 98%'"
      ]
     },
     "metadata": {},
     "output_type": "display_data"
    },
    {
     "name": "stdout",
     "output_type": "stream",
     "text": [
      "Train X shape: (77120, 28, 28, 1)\n",
      "Train Y shape: (77120,)\n",
      "Test X shape: (13180, 28, 28, 1)\n",
      "Test Y shape: (13180,)\n"
     ]
    }
   ],
   "source": [
    "# Load Omniglot using tensorflow datasets. It provides standard train/test splits out of the box.\n",
    "train_ds = tfds.load(\"omniglot\", split=tfds.Split.TRAIN, batch_size=-1)\n",
    "################################\n",
    "# We construct the actual training set by taking the first channel (they are all equal), resizing\n",
    "# the images to 28x28, and inverting the colors so that the actual signal is positive while black\n",
    "# pixels are zeroed out. Finally we rescale the image to the range [0, 1] for numerical stability.\n",
    "# The resulting dataset is then augmented with 90°, 180° and 270° rotations.\n",
    "#\n",
    "# Downscaling is important, otherwise the network isn't powerful enough to train\n",
    "################################\n",
    "omniglot_X = tfds.as_numpy(train_ds)['image'].astype(np.float32)\n",
    "train_X = np.zeros((4 * omniglot_X.shape[0], 28, 28, 1), dtype=np.float32)\n",
    "train_Y = tfds.as_numpy(train_ds)['label']\n",
    "train_Y = np.tile(train_Y, 4) + np.repeat([0, 1, 2, 3], train_Y.shape[0]) * np.max(train_Y)\n",
    "resize_batch_size = 256\n",
    "# Batch transformation\n",
    "for i in range(omniglot_X.shape[0] // resize_batch_size):\n",
    "    if i % 1 == 0:\n",
    "        clear_output(wait=True)\n",
    "        display('resize + grayscale: ' + str(i * 100 // (omniglot_X.shape[0] // resize_batch_size)) + '%')\n",
    "    train_X[i * resize_batch_size:(i + 1) * resize_batch_size, :, :, :] = resize(\n",
    "        (\n",
    "            (255 - omniglot_X[i * resize_batch_size:(i + 1) * resize_batch_size, :, :, 0])/255\n",
    "        )[:, :, :, None],\n",
    "        (resize_batch_size, 28, 28, 1)\n",
    "    )\n",
    "\n",
    "# Remaining elements\n",
    "train_X[-(omniglot_X.shape[0] % resize_batch_size): :, :, :] = resize(\n",
    "        (\n",
    "            (255 - omniglot_X[-(omniglot_X.shape[0] % resize_batch_size):, :, :, 0])/255\n",
    "        )[:, :, :, None],\n",
    "        (omniglot_X.shape[0] % resize_batch_size, 28, 28, 1))\n",
    "\n",
    "# Adding all 4 rotations to training data\n",
    "for i in range(omniglot_X.shape[0] // resize_batch_size):\n",
    "    clear_output(wait=True)\n",
    "    display('rotations ' + str(i * 100 // (omniglot_X.shape[0] // resize_batch_size)) + '%')\n",
    "    for rot in [1, 2, 3]:\n",
    "        train_X[\n",
    "            omniglot_X.shape[0] * rot + i * resize_batch_size:\n",
    "            omniglot_X.shape[0] * rot + (i + 1) * resize_batch_size,\n",
    "            :, :, :\n",
    "        ] = np.rot90(train_X[\n",
    "                     i * resize_batch_size:(i + 1) * resize_batch_size, :, :, :\n",
    "                     ], rot, (1, 2))\n",
    "for rot in [1, 2, 3]:\n",
    "    train_X[\n",
    "        rot * omniglot_X.shape[0] - (omniglot_X.shape[0] % resize_batch_size):rot * omniglot_X.shape[0],\n",
    "        :, :, :\n",
    "    ] = np.rot90(train_X[\n",
    "                     - (omniglot_X.shape[0] % resize_batch_size):, :, :, :\n",
    "                 ], rot, (1, 2))\n",
    "\n",
    "# Apply the same transformations to the test set\n",
    "test_ds = tfds.load(\"omniglot\", split=tfds.Split.TEST, batch_size=-1)\n",
    "omniglot_test_X = tfds.as_numpy(test_ds)['image'].astype(np.float32)\n",
    "test_X = np.zeros((omniglot_test_X.shape[0], 28, 28, 1), dtype=np.float32)\n",
    "test_Y = tfds.as_numpy(test_ds)['label']\n",
    "for i in range(test_X.shape[0] // resize_batch_size):\n",
    "    if i % 1 == 0:\n",
    "        clear_output(wait=True)\n",
    "        display('Test set ' + str(i * 100 // (test_X.shape[0] // resize_batch_size)) + '%')\n",
    "    test_X[i * resize_batch_size:(i + 1) * resize_batch_size, :, :, :] = resize(\n",
    "        (\n",
    "            (255 - omniglot_test_X[i * resize_batch_size:(i + 1) * resize_batch_size, :, :, 0])/255\n",
    "        )[:, :, :, None],\n",
    "        (resize_batch_size, 28, 28, 1))\n",
    "\n",
    "test_X[-(omniglot_test_X.shape[0] % resize_batch_size): :, :, :] = resize(\n",
    "        (\n",
    "            (255 - omniglot_test_X[-(omniglot_test_X.shape[0] % resize_batch_size):, :, :, 0])/255\n",
    "        )[:, :, :, None],\n",
    "        (omniglot_test_X.shape[0] % resize_batch_size, 28, 28, 1))\n",
    "\n",
    "# Display the split\n",
    "print(\"Train X shape:\", train_X.shape)\n",
    "print(\"Train Y shape:\", train_Y.shape)\n",
    "print(\"Test X shape:\", test_X.shape)\n",
    "print(\"Test Y shape:\", test_Y.shape)"
   ]
  },
  {
   "cell_type": "code",
   "execution_count": 5,
   "metadata": {},
   "outputs": [
    {
     "name": "stdout",
     "output_type": "stream",
     "text": [
      "Exemples de classes, avec 5 représentants chacune\n"
     ]
    },
    {
     "data": {
      "image/png": "[encoded data removed]",
      "text/plain": [
       "<Figure size 504x504 with 50 Axes>"
      ]
     },
     "metadata": {
      "needs_background": "light"
     },
     "output_type": "display_data"
    }
   ],
   "source": [
    "# Display the dataset on a Grid\n",
    "# np.random.choice(class_name, 5)\n",
    "classes_to_draw = [453, 837, 278, 192, 625]\n",
    "indices_to_draw = []\n",
    "for class_id in classes_to_draw:\n",
    "    class_indices = np.array(\n",
    "    list(filter(lambda elem: elem[1] == class_id, enumerate(train_Y)))\n",
    "    )\n",
    "    chosen_examples_indices = np.random.choice(range(len(class_indices)), 5)\n",
    "    indices_to_draw.extend(class_indices[chosen_examples_indices,:])\n",
    "\n",
    "fig = plt.figure(figsize=(7., 7.))\n",
    "print(\"Exemples de classes, avec 5 représentants chacune\")\n",
    "grid = ImageGrid(\n",
    "    fig, 111,\n",
    "    nrows_ncols=(len(classes_to_draw), 5),\n",
    "    axes_pad=0.1,\n",
    ")\n",
    "\n",
    "for ax, im in zip(grid, indices_to_draw):\n",
    "    # Iterating over the grid returns the Axes.\n",
    "    ax.imshow(train_X[im[0],:,:,0], cmap='gray')"
   ]
  },
  {
   "cell_type": "markdown",
   "metadata": {},
   "source": [
    "Here, each task corresponds to the classification of a limited set of characters. We will use 5 of them in the rest of this notebook. We thus talk about 5-way classification.\n",
    "The model will be meta-trained on randomly-generated 5-way classification tasks, and then evaluated on tasks sampled from **unseen** characters (from the test set)."
   ]
  },
  {
   "cell_type": "code",
   "execution_count": 5,
   "metadata": {},
   "outputs": [],
   "source": [
    "meta_train_ds = MetaDatasetFromArray(train_X, train_Y)"
   ]
  },
  {
   "cell_type": "markdown",
   "metadata": {},
   "source": [
    "## Meta-training"
   ]
  },
  {
   "cell_type": "markdown",
   "metadata": {},
   "source": [
    "The encoder we will be using is one proposed by Vinyals et al. in their 2016 paper \"Matching Networks for One Shot Learning\"."
   ]
  },
  {
   "cell_type": "code",
   "execution_count": 6,
   "metadata": {},
   "outputs": [],
   "source": [
    "encoder = utils.create_standardized_CNN(input_shape=(28, 28, 1))"
   ]
  },
  {
   "cell_type": "code",
   "execution_count": 7,
   "metadata": {},
   "outputs": [],
   "source": [
    "protonet = PrototypicalNetwork(encoder=encoder)"
   ]
  },
  {
   "cell_type": "markdown",
   "metadata": {},
   "source": [
    "The encoder returns 64-dimensional embeddings. For instance, if we feed the network 5 images from our data set, we get a (5, 64)-sized tensor."
   ]
  },
  {
   "cell_type": "code",
   "execution_count": 8,
   "metadata": {},
   "outputs": [
    {
     "data": {
      "text/plain": [
       "TensorShape([5, 64])"
      ]
     },
     "execution_count": 8,
     "metadata": {},
     "output_type": "execute_result"
    }
   ],
   "source": [
    "protonet.encoder(test_X[200:205,:,:,:]).shape"
   ]
  },
  {
   "cell_type": "markdown",
   "metadata": {},
   "source": [
    "The meta-training hyper-parameters match those proposed in the original paper for Prototypical Networks:\n",
    "- We sample 5 tasks consisting of 5 different characters to classify\n",
    "- For each character, 5 images are used as the support set to create the class embedding\n",
    "- For each character, 5 images are used as the query set, to compute the loss function and backpropagate the gradient through the encoder"
   ]
  },
  {
   "cell_type": "code",
   "execution_count": 9,
   "metadata": {},
   "outputs": [],
   "source": [
    "n_episode = 2000\n",
    "n_way = 5\n",
    "ks_shot = 5\n",
    "kq_shot = 5\n",
    "learning_rate = 1e-3\n",
    "\n",
    "def task_generator():\n",
    "    n_task = 32\n",
    "    for task in range(n_task):\n",
    "        yield meta_train_ds.get_one_episode(n_way=5, ks_shot=5, kq_shot=5)\n",
    "\n",
    "def episode_end_callback(**kwargs):\n",
    "    n_episode = kwargs['episode']\n",
    "    if n_episode%100 == 0:\n",
    "        epi_loss = kwargs['episode_loss'].numpy()\n",
    "        print(\"At episode\", n_episode, \"episode loss is\", epi_loss)"
   ]
  },
  {
   "cell_type": "code",
   "execution_count": 10,
   "metadata": {},
   "outputs": [
    {
     "name": "stdout",
     "output_type": "stream",
     "text": [
      "At episode 0 episode loss is 39.766712\n",
      "At episode 100 episode loss is 3.434962\n",
      "At episode 200 episode loss is 12.811996\n",
      "At episode 300 episode loss is 16.434214\n",
      "At episode 400 episode loss is 2.2627409\n",
      "At episode 500 episode loss is 4.534413\n",
      "At episode 600 episode loss is 2.2596307\n",
      "At episode 700 episode loss is 8.590659\n",
      "At episode 800 episode loss is 0.51724035\n",
      "At episode 900 episode loss is 0.87326676\n",
      "At episode 1000 episode loss is 4.5034046\n",
      "At episode 1100 episode loss is 2.5264752\n",
      "At episode 1200 episode loss is 2.9225144\n",
      "At episode 1300 episode loss is 3.1530998\n",
      "At episode 1400 episode loss is 0.24291024\n",
      "At episode 1500 episode loss is 0.5247797\n",
      "At episode 1600 episode loss is 0.23270082\n",
      "At episode 1700 episode loss is 0.97202617\n",
      "At episode 1800 episode loss is 2.5867794\n",
      "At episode 1900 episode loss is 0.8325193\n"
     ]
    }
   ],
   "source": [
    "protonet.meta_train(\n",
    "    task_generator,\n",
    "    n_episode=n_episode,\n",
    "    n_way=n_way,\n",
    "    ks_shots=ks_shot,\n",
    "    kq_shots=ks_shot,\n",
    "    optimizer=tf.keras.optimizers.Adam(learning_rate=learning_rate),\n",
    "    episode_end_callback=episode_end_callback\n",
    ")"
   ]
  },
  {
   "cell_type": "markdown",
   "metadata": {},
   "source": [
    "## Example of fine-tuning and prediction\n",
    "Here we sample five characters that would be unseen examples in a real world setting. We fine tune our model on those 25 images (5-way 5-shot) and make predictions."
   ]
  },
  {
   "cell_type": "code",
   "execution_count": 19,
   "metadata": {},
   "outputs": [
    {
     "name": "stdout",
     "output_type": "stream",
     "text": [
      "Test classes are: [1496 1268 1379 1437 1266]\n"
     ]
    }
   ],
   "source": [
    "test_classes = np.random.choice(np.unique(test_Y), size=5, replace=False)\n",
    "print(\"Test classes are:\", test_classes)\n",
    "\n",
    "fit_indices = np.zeros((25,), dtype=np.int32)\n",
    "test_indices = np.zeros((25,), dtype=np.int32)\n",
    "for i in range(5):\n",
    "    class_indices = np.random.choice(\n",
    "        np.argwhere(test_Y == test_classes[i]).flatten(),\n",
    "        size=10,\n",
    "        replace=False\n",
    "    )\n",
    "    fit_indices[i*5:(i+1)*5] = class_indices[:5]\n",
    "    test_indices[i*5:(i+1)*5] = class_indices[5:]\n",
    "\n",
    "fit_data = test_X[fit_indices,:,:,:]\n",
    "fit_labels = test_Y[fit_indices]\n",
    "\n",
    "test_data = test_X[test_indices,:,:,:]\n",
    "test_labels = test_Y[test_indices]"
   ]
  },
  {
   "cell_type": "code",
   "execution_count": 20,
   "metadata": {},
   "outputs": [],
   "source": [
    "protonet.fit(fit_data.astype(np.float32), fit_labels)"
   ]
  },
  {
   "cell_type": "code",
   "execution_count": 21,
   "metadata": {},
   "outputs": [],
   "source": [
    "test_preds = protonet.predict(test_data)"
   ]
  },
  {
   "cell_type": "code",
   "execution_count": 23,
   "metadata": {},
   "outputs": [
    {
     "data": {
      "image/png": "[encoded data removed]",
      "text/plain": [
       "<Figure size 1800x72 with 1 Axes>"
      ]
     },
     "metadata": {
      "needs_background": "light"
     },
     "output_type": "display_data"
    }
   ],
   "source": [
    "plt.figure(figsize=(25, 1))\n",
    "plt.bar(np.arange(len(test_labels)), (test_preds==test_labels).astype(np.int), color='g', tick_label=test_preds)\n",
    "plt.bar(np.arange(len(test_labels)), (test_preds!=test_labels).astype(np.int), color='r', tick_label=test_preds)\n",
    "plt.xlabel(\"Predicted class, red means bad prediction\", size=20);"
   ]
  },
  {
   "cell_type": "markdown",
   "metadata": {},
   "source": [
    "## Evaluation"
   ]
  },
  {
   "cell_type": "code",
   "execution_count": 24,
   "metadata": {},
   "outputs": [],
   "source": [
    "eval_ds = MetaDatasetFromArray(test_X, test_Y)"
   ]
  },
  {
   "cell_type": "code",
   "execution_count": 28,
   "metadata": {},
   "outputs": [
    {
     "data": {
      "text/plain": [
       "'Evaluation task 1000 out of 1000'"
      ]
     },
     "metadata": {},
     "output_type": "display_data"
    }
   ],
   "source": [
    "n_task = 1000\n",
    "\n",
    "acc = []\n",
    "for i_task in range(n_task):\n",
    "    clear_output(wait=True)\n",
    "    display(\"Evaluation task \"+str(i_task+1)+\" out of \"+str(n_task))\n",
    "    train_set, eval_set = eval_ds.get_one_episode(n_way=5, ks_shot=5, kq_shot=5)\n",
    "    protonet.fit(train_set[0], train_set[1])\n",
    "    eval_preds = protonet.predict(eval_set[0])\n",
    "    acc.append(np.mean(eval_preds == eval_set[1]))"
   ]
  },
  {
   "cell_type": "code",
   "execution_count": 29,
   "metadata": {},
   "outputs": [
    {
     "name": "stdout",
     "output_type": "stream",
     "text": [
      "Accuracy on 1000 randomly sampled tasks is 96.08% +/- 0.32\n"
     ]
    }
   ],
   "source": [
    "mean_acc = np.mean(acc)\n",
    "var = np.var(acc)\n",
    "ic95 = 1.96*np.sqrt(var/n_task)\n",
    "print(\"Accuracy on\", n_task, \"randomly sampled tasks is\", str(round(mean_acc*100, 2))+\"%\", \"+/-\", round(ic95*100, 2))"
   ]
  }
 ],
 "metadata": {
  "kernelspec": {
   "display_name": "tf-fs-examples",
   "language": "python",
   "name": "tf-fs-examples"
  },
  "language_info": {
   "codemirror_mode": {
    "name": "ipython",
    "version": 3
   },
   "file_extension": ".py",
   "mimetype": "text/x-python",
   "name": "python",
   "nbconvert_exporter": "python",
   "pygments_lexer": "ipython3",
   "version": "3.7.7"
  }
 },
 "nbformat": 4,
 "nbformat_minor": 4
}
